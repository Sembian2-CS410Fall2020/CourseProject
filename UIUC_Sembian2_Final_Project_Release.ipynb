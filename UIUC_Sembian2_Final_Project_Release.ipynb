{
  "nbformat": 4,
  "nbformat_minor": 0,
  "metadata": {
    "accelerator": "GPU",
    "colab": {
      "name": "UIUC Sembian2-Final Project_Release1.ipynb",
      "provenance": [],
      "collapsed_sections": [
        "2ZAtha9kdsgD"
      ],
      "toc_visible": true
    },
    "kernelspec": {
      "display_name": "Python 3",
      "language": "python",
      "name": "python3"
    },
    "language_info": {
      "codemirror_mode": {
        "name": "ipython",
        "version": 3
      },
      "file_extension": ".py",
      "mimetype": "text/x-python",
      "name": "python",
      "nbconvert_exporter": "python",
      "pygments_lexer": "ipython3",
      "version": "3.8.5"
    }
  },
  "cells": [
    {
      "cell_type": "markdown",
      "metadata": {
        "id": "mCuIiiRlzflz"
      },
      "source": [
        "# UIUC CS410 Final Project - Text Classification Competition\n",
        "NetID: Sembian2@illinois.edu \n",
        "\n",
        "SubmissionType: Individual"
      ]
    },
    {
      "cell_type": "markdown",
      "metadata": {
        "id": "cesQzTek0Z4g"
      },
      "source": [
        "# Project Summary and Installation Guide"
      ]
    },
    {
      "cell_type": "markdown",
      "metadata": {
        "id": "5hnYnuGd0juV"
      },
      "source": [
        "Download the ipynb and load into google colab ( https://colab.research.google.com/) and enable the GPU runtime \n",
        "\n",
        "**Project Documentaiton:** https://github.com/Sembian2-CS410Fall2020/CourseProject/blob/main/sembian2_cs410f2020_project_documentation.pdf\n",
        "\n",
        "**Project Progress Report:** https://github.com/Sembian2-CS410Fall2020/CourseProject/blob/main/sembian2_cs410f2020_project_progress_report.pdf\n",
        "\n",
        "**Project Proposal Document:** https://github.com/Sembian2-CS410Fall2020/CourseProject/blob/main/sembian2_cs410f2020_project_proposal.pdf\n",
        "\n",
        "**Project Presentation Video** (YouTube Link) : https://www.youtube.com/watch?v=cH2tZB5n_8Y"
      ]
    },
    {
      "cell_type": "markdown",
      "metadata": {
        "id": "DfZJ5zT5PT1K"
      },
      "source": [
        "##Install Required Libraries"
      ]
    },
    {
      "cell_type": "code",
      "metadata": {
        "id": "wHIkRostB0xz"
      },
      "source": [
        "!pip install transformers -qq > None\n",
        "!pip install wandb -qq > None\n",
        "!pip install emoji -qq > None\n",
        "!pip install unidecode -qq > None"
      ],
      "execution_count": null,
      "outputs": []
    },
    {
      "cell_type": "markdown",
      "metadata": {
        "id": "wUXiiZ3aPaH7"
      },
      "source": [
        "##Import Libraries\n"
      ]
    },
    {
      "cell_type": "code",
      "metadata": {
        "id": "vaSmfxWI_-NE"
      },
      "source": [
        "import os\n",
        "import re\n",
        "from tqdm import tqdm\n",
        "import numpy as np\n",
        "import pandas as pd\n",
        "import matplotlib.pyplot as plt\n",
        "import emoji\n",
        "from html.parser import HTMLParser\n",
        "%matplotlib inline\n",
        "import wandb\n",
        "import string\n",
        "import unicodedata\n",
        "import unidecode\n",
        "import re\n",
        "import os\n",
        "import re\n",
        "import logging"
      ],
      "execution_count": null,
      "outputs": []
    },
    {
      "cell_type": "markdown",
      "metadata": {
        "id": "buR1naIaPkKh"
      },
      "source": [
        "## Import Training Data\n"
      ]
    },
    {
      "cell_type": "code",
      "metadata": {
        "id": "kewh8nDYALc6"
      },
      "source": [
        "#Loading Training data to Pandas DataFrame\n",
        "df = pd.read_json(\"https://raw.githubusercontent.com/CS410Fall2020/ClassificationCompetition/main/data/train.jsonl\", lines=True)"
      ],
      "execution_count": null,
      "outputs": []
    },
    {
      "cell_type": "markdown",
      "metadata": {
        "id": "HcwjflsDQBVl"
      },
      "source": [
        "# Data Pre-processing Pipeline\n",
        "Reference:  https://www.socialmediatoday.com/content/top-twitter-abbreviations-you-need-know"
      ]
    },
    {
      "cell_type": "code",
      "metadata": {
        "id": "NbOYAQi5aBTm"
      },
      "source": [
        "# Apostrophe Dictionary for commonly used forms in Twitter Tweets\n",
        "apostrophe_dict = {\n",
        "\"ain't\": \"am not / are not\",\n",
        "\"aren't\": \"are not / am not\", \n",
        "\"can't\": \"cannot\", \n",
        "\"can't've\": \"cannot have\",\n",
        "\"'cause\": \"because\", \n",
        "\"could've\": \"could have\", \n",
        "\"couldn't\": \"could not\", \n",
        "\"couldn't've\": \"could not have\",\n",
        "\"didn't\": \"did not\", \n",
        "\"doesn't\": \"does not\",\n",
        "\"don't\": \"do not\", \n",
        "\"hadn't\": \"had not\", \n",
        "\"hadn't've\": \"had not have\",\n",
        "\"hasn't\": \"has not\", \n",
        "\"haven't\": \"have not\", \n",
        "\"he'd\": \"he had / he would\", \n",
        "\"he'd've\": \"he would have\",\n",
        "\"he'll\": \"he shall / he will\", \n",
        "\"he'll've\": \"he shall have / he will have\", \n",
        "\"he's\": \"he has / he is\",\n",
        "\"how'd\": \"how did\", \n",
        "\"how'd'y\": \"how do you\", \n",
        "\"how'll\": \"how will\", \n",
        "\"how's\": \"how has / how is\",\n",
        "\"i'd\": \"I had / I would\", \n",
        "\"i'd've\": \"I would have\", \n",
        "\"i'll\": \"I shall / I will\", \n",
        "\"i'll've\": \"I shall have / I will have\",\n",
        "\"i'm\": \"I am\", \"I'm\": \"I am\", \n",
        "\"i've\": \"I have\", \n",
        "\"isn't\": \"is not\", \n",
        "\"it'd\": \"it had / it would\",\n",
        "\"it'd've\": \"it would have\",\n",
        "\"it'll\": \"it shall / it will\",\n",
        "\"it'll've\": \"it shall have / it will have\",\n",
        "\"it's\": \"it has / it is\",\n",
        "\"let's\": \"let us\",\n",
        "\"ma'am\": \"madam\",\n",
        "\"mayn't\": \"may not\",\n",
        "\"might've\": \"might have\",\n",
        "\"mightn't\": \"might not\",\n",
        "\"mightn't've\": \"might not have\",\n",
        "\"must've\": \"must have\",\n",
        "\"mustn't\": \"must not\",\n",
        "\"mustn't've\": \"must not have\",\n",
        "\"needn't\": \"need not\",\n",
        "\"needn't've\": \"need not have\",\n",
        "\"o'clock\": \"of the clock\",\n",
        "\"oughtn't\": \"ought not\",\n",
        "\"oughtn't've\": \"ought not have\",\n",
        "\"shan't\": \"shall not\",\n",
        "\"sha'n't\": \"shall not\",\n",
        "\"shan't've\": \"shall not have\",\n",
        "\"she'd\": \"she had / she would\",\n",
        "\"she'd've\": \"she would have\",\n",
        "\"she'll\": \"she shall / she will\",\n",
        "\"she'll've\": \"she shall have / she will have\",\n",
        "\"she's\": \"she has / she is\",\n",
        "\"should've\": \"should have\",\n",
        "\"shouldn't\": \"should not\",\n",
        "\"shouldn't've\": \"should not have\",\n",
        "\"so've\": \"so have\",\n",
        "\"so's\": \"so as / so is\",\n",
        "\"that'd\": \"that would / that had\",\n",
        "\"that'd've\": \"that would have\",\n",
        "\"that's\": \"that has / that is\",\n",
        "\"there'd\": \"there had / there would\",\n",
        "\"there'd've\": \"there would have\",\n",
        "\"there's\": \"there has / there is\",\n",
        "\"they'd\": \"they had / they would\",\n",
        "\"they'd've\": \"they would have\",\n",
        "\"they'll\": \"they shall / they will\",\n",
        "\"they'll've\": \"they shall have / they will have\",\n",
        "\"they're\": \"they are\",\n",
        "\"they've\": \"they have\",\n",
        "\"to've\": \"to have\",\n",
        "\"wasn't\": \"was not\",\n",
        "\"we'd\": \"we had / we would\",\n",
        "\"we'd've\": \"we would have\",\n",
        "\"we'll\": \"we will\",\n",
        "\"we'll've\": \"we will have\",\n",
        "\"we're\": \"we are\",\n",
        "\"we've\": \"we have\",\n",
        "\"weren't\": \"were not\",\n",
        "\"what'll\": \"what shall / what will\",\n",
        "\"what'll've\": \"what shall have / what will have\",\n",
        "\"what're\": \"what are\",\n",
        "\"what's\": \"what has / what is\",\n",
        "\"what've\": \"what have\",\n",
        "\"when's\": \"when has / when is\",\n",
        "\"when've\": \"when have\",\n",
        "\"where'd\": \"where did\",\n",
        "\"where's\": \"where has / where is\",\n",
        "\"where've\": \"where have\",\n",
        "\"who'll\": \"who shall / who will\",\n",
        "\"who'll've\": \"who shall have / who will have\",\n",
        "\"who's\": \"who has / who is\",\n",
        "\"who've\": \"who have\",\n",
        "\"why's\": \"why has / why is\",\n",
        "\"why've\": \"why have\",\n",
        "\"will've\": \"will have\",\n",
        "\"won't\": \"will not\",\n",
        "\"won't've\": \"will not have\",\n",
        "\"would've\": \"would have\",\n",
        "\"wouldn't\": \"would not\",\n",
        "\"wouldn't've\": \"would not have\",\n",
        "\"y'all\": \"you all\",\n",
        "\"y'all'd\": \"you all would\",\n",
        "\"y'all'd've\": \"you all would have\",\n",
        "\"y'all're\": \"you all are\",\n",
        "\"y'all've\": \"you all have\",\n",
        "\"you'd\": \"you had / you would\",\n",
        "\"you'd've\": \"you would have\",\n",
        "\"you'll\": \"you shall / you will\",\n",
        "\"you'll've\": \"you shall have / you will have\",\n",
        "\"you're\": \"you are\",\n",
        "\"you've\": \"you have\"\n",
        "}\n"
      ],
      "execution_count": null,
      "outputs": []
    },
    {
      "cell_type": "code",
      "metadata": {
        "id": "L_KbWWyPRbU3"
      },
      "source": [
        "# Short word Dictionary for commonly used forms in Twitter Tweets \n",
        "short_word_dict = {\n",
        "\" 121 \": \" one to one \", \" a/s/l \": \" age, sex, location \", \" adn \": \" any day now \", \" afaik \": \" as far as I know \",\n",
        "\" afk \": \" away from keyboard \", \" aight \": \" alright \", \" alol \": \" actually laughing out loud \", \" b4 \": \"before\",\n",
        "\" b4n \": \" bye for now \", \" bak \": \" back at the keyboard \", \" bf \": \" boyfriend \", \" bff \": \" best friends forever \", \n",
        "\" bfn \": \" bye for now \", \" bg \": \" big grin \", \" bta \": \" but then again \", \" btw \": \" by the way \", \n",
        "\" cid \": \" crying in disgrace \", \" cnp \": \" continued in my next post \", \" cp \": \" chat post \", \" cu \": \" see you \",\n",
        "\" cul \": \" see you later \", \" cul8r \": \" see you later \", \" cya \": \" bye \", \" cyo \": \" see you online \",\n",
        "\" dbau \": \" doing business as usual \", \" fud \": \" fear, uncertainty, and doubt \", \" fwiw \": \" for what it's worth \",\n",
        "\" fyi \": \" for your information \", \" g \": \" grin \", \" g2g \": \" got to go \", \" ga \": \" go ahead \", \" gal \": \" get a life \",\n",
        "\" gf \": \" girlfriend \", \" gfn \": \" gone for now \", \" gmbo \": \" giggling my butt off \", \" gmta \": \" great minds think alike \",\n",
        "\" h8 \": \" hate \", \" hagn \": \" have a good night \", \" hdop \": \" help delete online predators \", \" hhis \": \" hanging head in shame \",\n",
        "\" iac \": \" in any case \", \" ianal \": \" I am not a lawyer \", \" ic\" : \" I see \", \" idk \": \" I don't know \",\n",
        "\" imao \": \" in my arrogant opinion \", \" imnsho \": \"i n my not so humble opinion \", \" imo \": \" in my opinion \",\n",
        "\" iow \": \" in other words \", \" ipn \": \" I’m posting naked \", \" irl \": \" in real life \", \" jk \": \" just kidding \",\n",
        "\" l8r \": \" later \", \" ld \": \" later, dude \", \" ldr \": \" long distance relationship \", \" llta \": \" lots and lots of thunderous applause \",\n",
        "\" lmao \": \" laugh my ass off \", \" lmirl \": \" let's meet in real life \", \" lol \": \" laugh out loud \", \n",
        "\" ltr \": \" longterm relationship \", \" lulab \": \" love you like a brother \", \" lulas \": \" love you like a sister \",\n",
        "\" luv \": \" love \", \" m/f \": \" male or female \", \" m8 \": \" mate \", \" milf \": \" mother I would like to fuck \", \n",
        "\" oll \": \" online love \", \" omg \": \" oh my god \", \" otoh \": \" n the other hand \", \" pir \": \" parent in room \", \n",
        "\" ppl \": \" people \", \" r \": \" are \", \" rofl \": \" roll on the floor laughing \", \" rpg \": \" role playing games \",\n",
        "\" ru \": \" are you \" , \" shid \": \" slaps head in disgust \", \" somy \": \" sick of me yet \", \" sot \": \" short of time \",\n",
        "\" thanx \": \" thanks \", \" thx \": \" thanks \", \" ttyl \": \" talk to you later \", \" u \": \" you \", \" ur \": \" you are \",\n",
        "\" uw \": \" you’re welcome \", \" wb \": \" welcome back \", \" wfm \": \" works for me \", \" wibni \": \" wouldn't it be nice if \",\n",
        "\" wtf \": \" what the fuck \", \" wtg \": \" way to go \", \" wtgp \": \" want to go private \", \" ym \": \"young man \", \" gr8 \": \" great \", ' rt ': \"re tweet\",\n",
        "\" im \" : \"i am\", \" iv \": \" i have \", \" int'l \": \" international \", \" & \": \" and \"\n",
        "}\n"
      ],
      "execution_count": null,
      "outputs": []
    },
    {
      "cell_type": "code",
      "metadata": {
        "id": "X7DXdmm2oMTi"
      },
      "source": [
        "username_regex = re.compile(r'(^|[^@\\w])@(\\w{1,15})\\b')\n",
        "url_regex = re.compile(r'((www\\.[^\\s]+)|(https?://[^\\s]+)|(http?://[^\\s]+))')\n",
        "control_char_regex = re.compile(r'[\\r\\n\\t]+')\n",
        "# translate table for punctuation\n",
        "transl_table = dict([(ord(x), ord(y)) for x, y in zip(u\"‘’´“”–-\",  u\"'''\\\"\\\"--\")])\n",
        "# HTML parser\n",
        "html_parser = HTMLParser()\n",
        "transl_table = dict([(ord(x), ord(y)) for x, y in zip(u\"‘’´“”–-\",  u\"'''\\\"\\\"--\")])"
      ],
      "execution_count": null,
      "outputs": []
    },
    {
      "cell_type": "markdown",
      "metadata": {
        "id": "0GDEH2yHg2Qz"
      },
      "source": [
        "##Tweet Pre-Processing"
      ]
    },
    {
      "cell_type": "code",
      "metadata": {
        "id": "n__Gbf9QByqP"
      },
      "source": [
        "def standardize_text(text):\n",
        "    \"\"\"\n",
        "    1) Escape HTML\n",
        "    2) Replaces some non-standard punctuation with standard versions. \n",
        "    3) Replace \\r, \\n and \\t with white spaces\n",
        "    4) Removes all other control characters and the NULL byte\n",
        "    5) Removes duplicate white spaces\n",
        "    \"\"\"\n",
        "    # escape HTML symbols\n",
        "    text = html_parser.unescape(text)\n",
        "    # standardize punctuation\n",
        "    text = text.translate(transl_table)\n",
        "    text = text.replace('…', '...')\n",
        "    \n",
        "    # replace \\t, \\n and \\r characters by a whitespace\n",
        "    text = re.sub(control_char_regex, ' ', text)\n",
        "    # remove all remaining control characters\n",
        "    text = ''.join(ch for ch in text if unicodedata.category(ch)[0] != 'C')\n",
        "    # replace multiple spaces with single space\n",
        "    text = ' '.join(text.split())\n",
        "    return text.strip()\n",
        "\n",
        "def standardize_punctuation(text):\n",
        "    return ''.join([unidecode.unidecode(t) if unicodedata.category(t)[0] == 'P' else t for t in text])\n",
        "\n",
        "def asciify_emojis(text):\n",
        "    \"\"\"\n",
        "    Converts emojis into text aliases. E.g. 👍 becomes :thumbs_up:\n",
        "    For a full list of text aliases see: https://www.webfx.com/tools/emoji-cheat-sheet/\n",
        "    \"\"\"\n",
        "    text = emoji.demojize(text)\n",
        "    return text\n",
        "\n",
        "def remove_accented_characters(text):\n",
        "    text = unidecode.unidecode(text)\n",
        "    return text\n",
        "\n",
        "def remove_unicode_symbols(text):\n",
        "    text = ''.join(ch for ch in text if unicodedata.category(ch)[0] != 'So')\n",
        "    return text\n",
        "\n",
        "def lowercase_tweets(tweet):\n",
        "  text = tweet.lower()\n",
        "  return text\n",
        "\n",
        "def striptext(text):\n",
        "    text = remove_unicode_symbols(text)\n",
        "    text = remove_accented_characters(text)\n",
        "    text = asciify_emojis(text)\n",
        "    text = standardize_punctuation(text)\n",
        "    text = standardize_text(text)\n",
        "    return text\n",
        "\n",
        "def tag_cleaner(text):\n",
        "    no_tags = ''.join(text).replace('@USER', '').replace('<URL>','')\n",
        "    #no_tags = demoji.replace_with_desc(no_tags)\n",
        "    return no_tags\n",
        "                                                         \n",
        "def label_to_binary(text):\n",
        "    if text == \"SARCASM\":\n",
        "        lbinary = 0\n",
        "    else:\n",
        "        lbinary = 1\n",
        "        \n",
        "    return lbinary"
      ],
      "execution_count": null,
      "outputs": []
    },
    {
      "cell_type": "code",
      "metadata": {
        "id": "mimdd2QfYFsy",
        "colab": {
          "base_uri": "https://localhost:8080/"
        },
        "outputId": "739f247b-6166-4813-8423-66363537ad94"
      },
      "source": [
        "df['response'] = df['response'].apply(lambda x: tag_cleaner(x))\n",
        "df['response'] = df['response'].apply(lambda x: lowercase_tweets(x))\n",
        "df['response'] = df['response'].replace(short_word_dict, regex=True)\n",
        "df['response'] = df['response'].replace(apostrophe_dict, regex=True)\n",
        "\n",
        "df['response'] = df['response'].apply(lambda x: striptext(x))\n",
        "df['label'] = df['label'].apply(lambda x: label_to_binary(x))"
      ],
      "execution_count": null,
      "outputs": [
        {
          "output_type": "stream",
          "text": [
            "/usr/local/lib/python3.6/dist-packages/ipykernel_launcher.py:10: DeprecationWarning: The unescape method is deprecated and will be removed in 3.5, use html.unescape() instead.\n",
            "  # Remove the CWD from sys.path while we load stuff.\n"
          ],
          "name": "stderr"
        }
      ]
    },
    {
      "cell_type": "code",
      "metadata": {
        "id": "UXIbr2Mij7Jh",
        "colab": {
          "base_uri": "https://localhost:8080/",
          "height": 204
        },
        "outputId": "ad9316e9-fa3c-4003-f011-83d8c7c13191"
      },
      "source": [
        "df.sample(5)"
      ],
      "execution_count": null,
      "outputs": [
        {
          "output_type": "execute_result",
          "data": {
            "text/html": [
              "<div>\n",
              "<style scoped>\n",
              "    .dataframe tbody tr th:only-of-type {\n",
              "        vertical-align: middle;\n",
              "    }\n",
              "\n",
              "    .dataframe tbody tr th {\n",
              "        vertical-align: top;\n",
              "    }\n",
              "\n",
              "    .dataframe thead th {\n",
              "        text-align: right;\n",
              "    }\n",
              "</style>\n",
              "<table border=\"1\" class=\"dataframe\">\n",
              "  <thead>\n",
              "    <tr style=\"text-align: right;\">\n",
              "      <th></th>\n",
              "      <th>label</th>\n",
              "      <th>response</th>\n",
              "      <th>context</th>\n",
              "    </tr>\n",
              "  </thead>\n",
              "  <tbody>\n",
              "    <tr>\n",
              "      <th>2354</th>\n",
              "      <td>0</td>\n",
              "      <td>no doubt we are much better off now .</td>\n",
              "      <td>[#BREAKING : Hackers claiming to be from Iran ...</td>\n",
              "    </tr>\n",
              "    <tr>\n",
              "      <th>3623</th>\n",
              "      <td>1</td>\n",
              "      <td>I am quite impressed with your mastery of the ...</td>\n",
              "      <td>[Today , House Dems are finally handing the re...</td>\n",
              "    </tr>\n",
              "    <tr>\n",
              "      <th>4324</th>\n",
              "      <td>1</td>\n",
              "      <td>you might just decide to never #quibble and al...</td>\n",
              "      <td>[@USER Edmund , siblings , parents , awaiting ...</td>\n",
              "    </tr>\n",
              "    <tr>\n",
              "      <th>4615</th>\n",
              "      <td>1</td>\n",
              "      <td>buddy , taehyung also won the title himself , ...</td>\n",
              "      <td>[make way for taekook aka our gorgeous muse an...</td>\n",
              "    </tr>\n",
              "    <tr>\n",
              "      <th>2275</th>\n",
              "      <td>0</td>\n",
              "      <td>glad to know i dont fit in nate's shitty bubbl...</td>\n",
              "      <td>[ThE PriMaRy HaS BeEn A CrAzY UnPrEDiCtAbLe Ro...</td>\n",
              "    </tr>\n",
              "  </tbody>\n",
              "</table>\n",
              "</div>"
            ],
            "text/plain": [
              "      label  ...                                            context\n",
              "2354      0  ...  [#BREAKING : Hackers claiming to be from Iran ...\n",
              "3623      1  ...  [Today , House Dems are finally handing the re...\n",
              "4324      1  ...  [@USER Edmund , siblings , parents , awaiting ...\n",
              "4615      1  ...  [make way for taekook aka our gorgeous muse an...\n",
              "2275      0  ...  [ThE PriMaRy HaS BeEn A CrAzY UnPrEDiCtAbLe Ro...\n",
              "\n",
              "[5 rows x 3 columns]"
            ]
          },
          "metadata": {
            "tags": []
          },
          "execution_count": 9
        }
      ]
    },
    {
      "cell_type": "markdown",
      "metadata": {
        "id": "sM8F8Yt8S9Tj"
      },
      "source": [
        "## Split Train and Validation"
      ]
    },
    {
      "cell_type": "code",
      "metadata": {
        "id": "wJ52Lb_JAVbi"
      },
      "source": [
        "from sklearn.model_selection import train_test_split\n",
        "\n",
        "X = df.response.values\n",
        "y = df.label.values\n",
        "\n",
        "X_train, X_val, y_train, y_val =\\\n",
        "    train_test_split(X, y, test_size=0.33, random_state=2020)"
      ],
      "execution_count": null,
      "outputs": []
    },
    {
      "cell_type": "code",
      "metadata": {
        "id": "fDjrO10aTCyO"
      },
      "source": [
        ""
      ],
      "execution_count": null,
      "outputs": []
    },
    {
      "cell_type": "markdown",
      "metadata": {
        "id": "K-ICCYByTFKr"
      },
      "source": [
        "##Loading Test Data"
      ]
    },
    {
      "cell_type": "code",
      "metadata": {
        "id": "VVkYVNBpYTOp",
        "colab": {
          "base_uri": "https://localhost:8080/"
        },
        "outputId": "5045555a-d024-4ffa-b357-14c5b854b024"
      },
      "source": [
        "test_data = pd.read_json(\"https://raw.githubusercontent.com/CS410Fall2020/ClassificationCompetition/main/data/test.jsonl\", lines=True)\n",
        "test_data = test_data[['id', 'response','context']]\n",
        "test_data['response'] = test_data['response'].apply(lambda x: tag_cleaner(x))\n",
        "test_data['response'] = test_data['response'].apply(lambda x: lowercase_tweets(x))\n",
        "test_data['response'] = test_data['response'].replace(short_word_dict, regex=True)\n",
        "test_data['response'] = test_data['response'].replace(apostrophe_dict, regex=True)\n",
        "test_data['response'] = test_data['response'].apply(lambda x: striptext(x))\n"
      ],
      "execution_count": null,
      "outputs": [
        {
          "output_type": "stream",
          "text": [
            "/usr/local/lib/python3.6/dist-packages/ipykernel_launcher.py:10: DeprecationWarning: The unescape method is deprecated and will be removed in 3.5, use html.unescape() instead.\n",
            "  # Remove the CWD from sys.path while we load stuff.\n"
          ],
          "name": "stderr"
        }
      ]
    },
    {
      "cell_type": "code",
      "metadata": {
        "id": "iMAXGKCEYaGc",
        "colab": {
          "base_uri": "https://localhost:8080/",
          "height": 80
        },
        "outputId": "63f88d2a-ba7c-47b0-ac3d-0881b1bd8fa4"
      },
      "source": [
        "test_data.sample(1)"
      ],
      "execution_count": null,
      "outputs": [
        {
          "output_type": "execute_result",
          "data": {
            "text/html": [
              "<div>\n",
              "<style scoped>\n",
              "    .dataframe tbody tr th:only-of-type {\n",
              "        vertical-align: middle;\n",
              "    }\n",
              "\n",
              "    .dataframe tbody tr th {\n",
              "        vertical-align: top;\n",
              "    }\n",
              "\n",
              "    .dataframe thead th {\n",
              "        text-align: right;\n",
              "    }\n",
              "</style>\n",
              "<table border=\"1\" class=\"dataframe\">\n",
              "  <thead>\n",
              "    <tr style=\"text-align: right;\">\n",
              "      <th></th>\n",
              "      <th>id</th>\n",
              "      <th>response</th>\n",
              "      <th>context</th>\n",
              "    </tr>\n",
              "  </thead>\n",
              "  <tbody>\n",
              "    <tr>\n",
              "      <th>1200</th>\n",
              "      <td>twitter_1201</td>\n",
              "      <td>so we have our familiar favourites - #humble #...</td>\n",
              "      <td>[@USER @USER @USER guys Im #anxious #nervous t...</td>\n",
              "    </tr>\n",
              "  </tbody>\n",
              "</table>\n",
              "</div>"
            ],
            "text/plain": [
              "                id  ...                                            context\n",
              "1200  twitter_1201  ...  [@USER @USER @USER guys Im #anxious #nervous t...\n",
              "\n",
              "[1 rows x 3 columns]"
            ]
          },
          "metadata": {
            "tags": []
          },
          "execution_count": 12
        }
      ]
    },
    {
      "cell_type": "markdown",
      "metadata": {
        "id": "-xOf6xfvTIUY"
      },
      "source": [
        "##GPU Setup"
      ]
    },
    {
      "cell_type": "code",
      "metadata": {
        "id": "Ycq7dhOXAjGE",
        "colab": {
          "base_uri": "https://localhost:8080/"
        },
        "outputId": "9a188ab6-aa87-4149-bf67-0ae2c16cb4d0"
      },
      "source": [
        "import torch\n",
        "import numpy as np\n",
        "if torch.cuda.is_available():       \n",
        "    device = torch.device(\"cuda\")\n",
        "    print(f'There are {torch.cuda.device_count()} GPU(s) available.')\n",
        "    print('Device name:', torch.cuda.get_device_name(0))\n",
        "\n",
        "else:\n",
        "    print('No GPU available, using the CPU instead.')\n",
        "    device = torch.device(\"cpu\")"
      ],
      "execution_count": null,
      "outputs": [
        {
          "output_type": "stream",
          "text": [
            "There are 1 GPU(s) available.\n",
            "Device name: Tesla T4\n"
          ],
          "name": "stdout"
        }
      ]
    },
    {
      "cell_type": "code",
      "metadata": {
        "id": "GqkDy2pITN8m"
      },
      "source": [
        ""
      ],
      "execution_count": null,
      "outputs": []
    },
    {
      "cell_type": "markdown",
      "metadata": {
        "id": "JywYRx5DTPeI"
      },
      "source": [
        "## Text Processing"
      ]
    },
    {
      "cell_type": "code",
      "metadata": {
        "id": "MfD5yRsYAoNM",
        "colab": {
          "base_uri": "https://localhost:8080/"
        },
        "outputId": "157ed889-cf07-48ee-80b2-5d9f7167b0b5"
      },
      "source": [
        "import nltk\n",
        "# Uncomment to download \"stopwords\"\n",
        "nltk.download(\"stopwords\")\n",
        "from nltk.corpus import stopwords\n",
        "\n",
        "def text_preprocessing(s):\n",
        "    \"\"\"\n",
        "    - Lowercase the sentence\n",
        "    - Change \"'t\" to \"not\"\n",
        "    - Remove \"@name\"\n",
        "    - Isolate and remove punctuations except \"?\"\n",
        "    - Remove other special characters\n",
        "    - Remove stop words except \"not\" and \"can\"\n",
        "    - Remove trailing whitespace\n",
        "    \"\"\"\n",
        "    s = s.lower()\n",
        "    # Change 't to 'not'\n",
        "    \n",
        "    s = re.sub(r\"\\'t\", \" not\", s)\n",
        " \n",
        "\n",
        "    # Remove @name\n",
        "    s = re.sub(r'(@.*?)[\\s]', ' ', s)\n",
        "    # Isolate and remove punctuations except '?'\n",
        "    s = re.sub(r'([\\'\\\"\\.\\(\\)\\!\\?\\\\\\/\\,])', r' \\1 ', s)\n",
        "    s = re.sub(r'[^\\w\\s\\?]', ' ', s)\n",
        "    # Remove some special characters\n",
        "    s = re.sub(r'([\\;\\:\\|•«\\n])', ' ', s)\n",
        "    # Remove stopwords except 'not' and 'can'\n",
        "    s = \" \".join([word for word in s.split()\n",
        "                  if word not in stopwords.words('english')\n",
        "                  or word in ['not', 'can']])\n",
        "    # Remove trailing whitespace\n",
        "    s = re.sub(r'\\s+', ' ', s).strip()\n",
        "    \n",
        "    return s\n"
      ],
      "execution_count": null,
      "outputs": [
        {
          "output_type": "stream",
          "text": [
            "[nltk_data] Downloading package stopwords to /root/nltk_data...\n",
            "[nltk_data]   Package stopwords is already up-to-date!\n"
          ],
          "name": "stdout"
        }
      ]
    },
    {
      "cell_type": "markdown",
      "metadata": {
        "id": "nmZuepU2TTH3"
      },
      "source": [
        "#Baseline Model using TF-IDF Vectorizer"
      ]
    },
    {
      "cell_type": "code",
      "metadata": {
        "id": "L9moyN73Athh",
        "colab": {
          "base_uri": "https://localhost:8080/"
        },
        "outputId": "832c2b49-cb17-4b08-e3ba-40806419aa1b"
      },
      "source": [
        "%%time\n",
        "from sklearn.feature_extraction.text import TfidfVectorizer\n",
        "\n",
        "# Preprocess text\n",
        "X_train_preprocessed = np.array([text_preprocessing(text) for text in X_train])\n",
        "X_val_preprocessed = np.array([text_preprocessing(text) for text in X_val])\n",
        "\n",
        "# Calculate TF-IDF\n",
        "tf_idf = TfidfVectorizer(ngram_range=(1, 3),\n",
        "                         binary=True,\n",
        "                         smooth_idf=False)\n",
        "X_train_tfidf = tf_idf.fit_transform(X_train_preprocessed)\n",
        "X_val_tfidf = tf_idf.transform(X_val_preprocessed)"
      ],
      "execution_count": null,
      "outputs": [
        {
          "output_type": "stream",
          "text": [
            "CPU times: user 8.86 s, sys: 978 ms, total: 9.84 s\n",
            "Wall time: 9.85 s\n"
          ],
          "name": "stdout"
        }
      ]
    },
    {
      "cell_type": "code",
      "metadata": {
        "id": "xCi9DWOEA12I"
      },
      "source": [
        "from sklearn.model_selection import StratifiedKFold, cross_val_score\n",
        "\n",
        "def get_auc_CV(model):\n",
        "    \"\"\"\n",
        "    Return the average AUC score from cross-validation.\n",
        "    \"\"\"\n",
        "    # Set KFold to shuffle data before the split\n",
        "    kf = StratifiedKFold(5, shuffle=True, random_state=1)\n",
        "\n",
        "    # Get AUC scores\n",
        "    auc = cross_val_score(\n",
        "        model, X_train_tfidf, y_train, scoring=\"roc_auc\", cv=kf)\n",
        "\n",
        "    return auc.mean()"
      ],
      "execution_count": null,
      "outputs": []
    },
    {
      "cell_type": "markdown",
      "metadata": {
        "id": "XltIM_7qVUz0"
      },
      "source": [
        "## Baseline Multinomial Naive Bayes Model\n",
        "C.D. Manning, P. Raghavan and H. Schuetze (2008). Introduction to Information Retrieval. Cambridge University Press, pp. 234-265. https://nlp.stanford.edu/IR-book/html/htmledition/naive-bayes-text-classification-1.html"
      ]
    },
    {
      "cell_type": "code",
      "metadata": {
        "id": "LgX6pgVrBdjw",
        "colab": {
          "base_uri": "https://localhost:8080/",
          "height": 312
        },
        "outputId": "3ce545b9-7c8b-4964-9916-bb64450a2bf8"
      },
      "source": [
        "from sklearn.naive_bayes import MultinomialNB\n",
        "\n",
        "res = pd.Series([get_auc_CV(MultinomialNB(i))\n",
        "                 for i in np.arange(1, 10, 0.1)],\n",
        "                index=np.arange(1, 10, 0.1))\n",
        "\n",
        "best_alpha = np.round(res.idxmax(), 2)\n",
        "print('Best alpha: ', best_alpha)\n",
        "\n",
        "plt.plot(res)\n",
        "plt.title('AUC vs. Alpha')\n",
        "plt.xlabel('Alpha')\n",
        "plt.ylabel('AUC')\n",
        "plt.show()"
      ],
      "execution_count": null,
      "outputs": [
        {
          "output_type": "stream",
          "text": [
            "Best alpha:  1.8\n"
          ],
          "name": "stdout"
        },
        {
          "output_type": "display_data",
          "data": {
            "image/png": "[encoded data removed]",
            "text/plain": [
              "<Figure size 432x288 with 1 Axes>"
            ]
          },
          "metadata": {
            "tags": [],
            "needs_background": "light"
          }
        }
      ]
    },
    {
      "cell_type": "code",
      "metadata": {
        "id": "WzWdlMH8Bfwn"
      },
      "source": [
        "from sklearn.metrics import accuracy_score, roc_curve, auc\n",
        "\n",
        "def evaluate_roc(probs, y_true):\n",
        "    \"\"\"\n",
        "    - Print AUC and accuracy on the validation set - Compute Area Under the Curve (AUC) using the trapezoidal rule\n",
        "    - Plot ROC - Compute Receiver operating characteristic (ROC)\n",
        "    @params    probs (np.array): an array of predicted probabilities with shape (len(y_true), 2)\n",
        "    @params    y_true (np.array): an array of the true values with shape (len(y_true),)\n",
        "    \"\"\"\n",
        "    preds = probs[:, 1]\n",
        "    fpr, tpr, threshold = roc_curve(y_true, preds)\n",
        "    roc_auc = auc(fpr, tpr)\n",
        "    print(f'AUC: {roc_auc:.4f}')\n",
        "       \n",
        "    # Get accuracy over the test set\n",
        "    y_pred = np.where(preds > 0.5, 1, 0)\n",
        "    accuracy = accuracy_score(y_true, y_pred)\n",
        "    print(f'Accuracy: {accuracy*100:.2f}%')\n",
        "    \n",
        "    # Plot ROC AUC\n",
        "    plt.title('Receiver Operating Characteristic')\n",
        "    plt.plot(fpr, tpr, 'b', label = 'AUC = %0.2f' % roc_auc)\n",
        "    plt.legend(loc = 'lower right')\n",
        "    plt.plot([0, 1], [0, 1],'r--')\n",
        "    plt.xlim([0, 1])\n",
        "    plt.ylim([0, 1])\n",
        "    plt.ylabel('True Positive Rate')\n",
        "    plt.xlabel('False Positive Rate')\n",
        "    plt.show()"
      ],
      "execution_count": null,
      "outputs": []
    },
    {
      "cell_type": "code",
      "metadata": {
        "id": "Y5tJ6JHMBnbn",
        "colab": {
          "base_uri": "https://localhost:8080/",
          "height": 329
        },
        "outputId": "f0b6ccde-d8d2-4a40-8d89-7186bdb06a58"
      },
      "source": [
        "# Compute predicted probabilities - Naive Bayes classifier for multinomial models\n",
        "nb_model = MultinomialNB(alpha=1.8)\n",
        "nb_model.fit(X_train_tfidf, y_train)\n",
        "probs = nb_model.predict_proba(X_val_tfidf)\n",
        "\n",
        "# Evaluate the classifier\n",
        "evaluate_roc(probs, y_val)"
      ],
      "execution_count": null,
      "outputs": [
        {
          "output_type": "stream",
          "text": [
            "AUC: 0.8118\n",
            "Accuracy: 72.24%\n"
          ],
          "name": "stdout"
        },
        {
          "output_type": "display_data",
          "data": {
            "image/png": "[encoded data removed]",
            "text/plain": [
              "<Figure size 432x288 with 1 Axes>"
            ]
          },
          "metadata": {
            "tags": [],
            "needs_background": "light"
          }
        }
      ]
    },
    {
      "cell_type": "markdown",
      "metadata": {
        "id": "InEHlllCTZbp"
      },
      "source": [
        "# Setup BERT Model"
      ]
    },
    {
      "cell_type": "code",
      "metadata": {
        "id": "rJvfC78RBqd1"
      },
      "source": [
        "def text_preprocessing_bert(text):\n",
        "    \"\"\"\n",
        "    - Remove entity mentions (eg. '@united')\n",
        "    - Correct errors (eg. '&amp;' to '&')\n",
        "    @param    text (str): a string to be processed.\n",
        "    @return   text (Str): the processed string.\n",
        "    \"\"\"\n",
        "    # Remove '@name'\n",
        "    text = re.sub(r'(@.*?)[\\s]', ' ', text)\n",
        "\n",
        "    # Replace '&amp;' with '&'\n",
        "    text = re.sub(r'&amp;', '&', text)\n",
        "\n",
        "    # Remove trailing whitespace\n",
        "    text = re.sub(r'\\s+', ' ', text).strip()\n",
        "\n",
        "    return text"
      ],
      "execution_count": null,
      "outputs": []
    },
    {
      "cell_type": "markdown",
      "metadata": {
        "id": "lauWeglGTkSQ"
      },
      "source": [
        "## BERT Tokenizer with Attention"
      ]
    },
    {
      "cell_type": "code",
      "metadata": {
        "id": "bdaNb6rPCrUz"
      },
      "source": [
        "from transformers import BertTokenizer, AutoTokenizer\n",
        "\n",
        "# Load the BERT tokenizer\n",
        "tokenizer = BertTokenizer.from_pretrained('bert-large-uncased', do_lower_case=True)\n",
        "# Create a function to tokenize a set of texts\n",
        "def preprocessing_for_bert(data):\n",
        "    \"\"\"Perform required preprocessing steps for pretrained BERT.\n",
        "    @param    data (np.array): Array of texts to be processed.\n",
        "    @return   input_ids (torch.Tensor): Tensor of token ids to be fed to a model.\n",
        "    @return   attention_masks (torch.Tensor): Tensor of indices specifying which\n",
        "                  tokens should be attended to by the model.\n",
        "    \"\"\"\n",
        "    # Create empty lists to store outputs\n",
        "    input_ids = []\n",
        "    attention_masks = []\n",
        "\n",
        "    # For every sentence...\n",
        "    for sent in data:\n",
        "        # `encode_plus` will:\n",
        "        #    (1) Tokenize the sentence\n",
        "        #    (2) Add the `[CLS]` and `[SEP]` token to the start and end\n",
        "        #    (3) Truncate/Pad sentence to max length\n",
        "        #    (4) Map tokens to their IDs\n",
        "        #    (5) Create attention mask\n",
        "        #    (6) Return a dictionary of outputs\n",
        "        encoded_sent = tokenizer.encode_plus(\n",
        "            #text=text_preprocessing_bert(sent),  # Preprocess sentence\n",
        "            text=text_preprocessing_bert(sent),  # Preprocess sentence\n",
        "            add_special_tokens=True,        # Add `[CLS]` and `[SEP]`\n",
        "            max_length=MAX_LEN,                  # Max length to truncate/pad\n",
        "            pad_to_max_length=True,         # Pad sentence to max length\n",
        "            return_attention_mask=True      # Return attention mask\n",
        "            )\n",
        "        \n",
        "        # Add the outputs to the lists\n",
        "        input_ids.append(encoded_sent.get('input_ids'))\n",
        "        attention_masks.append(encoded_sent.get('attention_mask'))\n",
        "\n",
        "    # Convert lists to tensors\n",
        "    input_ids = torch.tensor(input_ids)\n",
        "    attention_masks = torch.tensor(attention_masks)\n",
        "\n",
        "    return input_ids, attention_masks"
      ],
      "execution_count": null,
      "outputs": []
    },
    {
      "cell_type": "code",
      "metadata": {
        "id": "DfZUv5moCvcp",
        "colab": {
          "base_uri": "https://localhost:8080/"
        },
        "outputId": "e053096c-f2f6-4067-d419-ee266c5fc291"
      },
      "source": [
        "# Concatenate train data and test data\n",
        "all_tweets = np.concatenate([df.response.values, test_data.response.values])\n",
        "\n",
        "# Encode our concatenated data\n",
        "encoded_tweets = [tokenizer.encode(sent, add_special_tokens=True) for sent in all_tweets]\n",
        "\n",
        "# Find the maximum length from both train and test dataset\n",
        "max_len = max([len(sent) for sent in encoded_tweets])\n",
        "print('Max length: ', max_len)"
      ],
      "execution_count": null,
      "outputs": [
        {
          "output_type": "stream",
          "text": [
            "Max length:  89\n"
          ],
          "name": "stdout"
        }
      ]
    },
    {
      "cell_type": "code",
      "metadata": {
        "id": "J-HLE5JXC7qL",
        "colab": {
          "base_uri": "https://localhost:8080/"
        },
        "outputId": "37b8ae9d-0ce7-4ab9-a838-2698b6ac47ae"
      },
      "source": [
        "# Specify `MAX_LEN`\n",
        "MAX_LEN =89\n",
        "\n",
        "# Print sentence 0 and its encoded token ids\n",
        "token_ids = list(preprocessing_for_bert([X[0]])[0].squeeze().numpy())\n",
        "print('Original: ', X[0])\n",
        "print('Token IDs: ', token_ids)\n",
        "\n",
        "# Run function `preprocessing_for_bert` on the train set and the validation set\n",
        "print('Tokenizing data...')\n",
        "train_inputs, train_masks = preprocessing_for_bert(X_train)\n",
        "val_inputs, val_masks = preprocessing_for_bert(X_val)\n"
      ],
      "execution_count": null,
      "outputs": [
        {
          "output_type": "stream",
          "text": [
            "Truncation was not explicitly activated but `max_length` is provided a specific value, please use `truncation=True` to explicitly truncate examples to max length. Defaulting to 'longest_first' truncation strategy. If you encode pairs of sequences (GLUE-style) with the tokenizer you can select this strategy more precisely by providing a specific strategy to `truncation`.\n"
          ],
          "name": "stderr"
        },
        {
          "output_type": "stream",
          "text": [
            "Original:  i do not get this .. obviously you do care or you would have moved right along .. instead you decided to care and troll her ..\n",
            "Token IDs:  [101, 1045, 2079, 2025, 2131, 2023, 1012, 1012, 5525, 2017, 2079, 2729, 2030, 2017, 2052, 2031, 2333, 2157, 2247, 1012, 1012, 2612, 2017, 2787, 2000, 2729, 1998, 18792, 2014, 1012, 1012, 102, 0, 0, 0, 0, 0, 0, 0, 0, 0, 0, 0, 0, 0, 0, 0, 0, 0, 0, 0, 0, 0, 0, 0, 0, 0, 0, 0, 0, 0, 0, 0, 0, 0, 0, 0, 0, 0, 0, 0, 0, 0, 0, 0, 0, 0, 0, 0, 0, 0, 0, 0, 0, 0, 0, 0, 0, 0]\n",
            "Tokenizing data...\n"
          ],
          "name": "stdout"
        },
        {
          "output_type": "stream",
          "text": [
            "/usr/local/lib/python3.6/dist-packages/transformers/tokenization_utils_base.py:2142: FutureWarning: The `pad_to_max_length` argument is deprecated and will be removed in a future version, use `padding=True` or `padding='longest'` to pad to the longest sequence in the batch, or use `padding='max_length'` to pad to a max length. In this case, you can give a specific length with `max_length` (e.g. `max_length=45`) or leave max_length to None to pad to the maximal input size of the model (e.g. 512 for Bert).\n",
            "  FutureWarning,\n"
          ],
          "name": "stderr"
        }
      ]
    },
    {
      "cell_type": "code",
      "metadata": {
        "id": "xobime9sTrIJ"
      },
      "source": [
        ""
      ],
      "execution_count": null,
      "outputs": []
    },
    {
      "cell_type": "markdown",
      "metadata": {
        "id": "fi9W_ts_Tr2K"
      },
      "source": [
        "## Data Loaders"
      ]
    },
    {
      "cell_type": "code",
      "metadata": {
        "id": "y71287z_DBFt"
      },
      "source": [
        "from torch.utils.data import TensorDataset, DataLoader, RandomSampler, SequentialSampler\n",
        "\n",
        "# Convert other data types to torch.Tensor\n",
        "train_labels = torch.tensor(y_train)\n",
        "val_labels = torch.tensor(y_val)\n",
        "\n",
        "\n",
        "# For fine-tuning BERT, the authors recommend a batch size of 16 or 32.\n",
        "batch_size = 32\n",
        "\n",
        "# Create the DataLoader for our training set\n",
        "train_data = TensorDataset(train_inputs, train_masks, train_labels)\n",
        "train_sampler = RandomSampler(train_data)\n",
        "train_dataloader = DataLoader(train_data, sampler=train_sampler, batch_size=batch_size)\n",
        "\n",
        "# Create the DataLoader for our validation set\n",
        "val_data = TensorDataset(val_inputs, val_masks, val_labels)\n",
        "val_sampler = SequentialSampler(val_data)\n",
        "val_dataloader = DataLoader(val_data, sampler=val_sampler, batch_size=batch_size)\n"
      ],
      "execution_count": null,
      "outputs": []
    },
    {
      "cell_type": "markdown",
      "metadata": {
        "id": "mpWrp4J0TwAw"
      },
      "source": [
        "## Bert Classifier Setup"
      ]
    },
    {
      "cell_type": "code",
      "metadata": {
        "id": "Jmtm39nQDGAA",
        "colab": {
          "base_uri": "https://localhost:8080/"
        },
        "outputId": "d622175b-72e0-4fdf-f25f-f8d60c423142"
      },
      "source": [
        "%%time\n",
        "import torch\n",
        "import torch.nn as nn\n",
        "from transformers import BertModel\n",
        "\n",
        "# Create the BertClassfier class\n",
        "#Bert Model Architecture\n",
        "#BERT’s model architecture is a multi-layer bidirectional Transformer encoder\n",
        "class BertClassifier(nn.Module):\n",
        "    \"\"\"Bert Model for Classification Tasks.\n",
        "    \"\"\"\n",
        "    def __init__(self, freeze_bert=False):\n",
        "        \"\"\"\n",
        "        @param    bert: a BertModel object\n",
        "        @param    classifier: a torch.nn.Module classifier\n",
        "        @param    freeze_bert (bool): Set `False` to fine-tune the BERT model\n",
        "        \"\"\"\n",
        "        super(BertClassifier, self).__init__()\n",
        "        # Specify hidden size of BERT, hidden size of our classifier, and number of labels\n",
        "        # BERT-Large, Uncased: 24-layer, 1024-hidden, 16-heads, 340M parameters\n",
        "        D_in, H, D_out = 1024, 50, 2\n",
        "\n",
        "        # Instantiate BERT model\n",
        "        self.bert = BertModel.from_pretrained('bert-large-uncased')\n",
        "\n",
        "        # Instantiate an one-layer feed-forward classifier\n",
        "        self.classifier = nn.Sequential(\n",
        "            nn.Linear(D_in, H),   #https://pytorch.org/docs/stable/generated/torch.nn.Linear.html#torch.nn.Linear\n",
        "            nn.ReLU(), #https://pytorch.org/docs/stable/generated/torch.nn.ReLU.html#torch.nn.ReLU\n",
        "            nn.Linear(H, D_out), #https://pytorch.org/docs/stable/generated/torch.nn.Linear.html#torch.nn.Linear\n",
        "        )\n",
        "\n",
        "        # Freeze the BERT model\n",
        "        if freeze_bert:\n",
        "            for param in self.bert.parameters():\n",
        "                param.requires_grad = False\n",
        "        \n",
        "    def forward(self, input_ids, attention_mask):\n",
        "        \"\"\"\n",
        "        Feed input to BERT and the classifier to compute logits.\n",
        "        @param    input_ids (torch.Tensor): an input tensor with shape (batch_size,\n",
        "                      max_length)\n",
        "        @param    attention_mask (torch.Tensor): a tensor that hold attention mask\n",
        "                      information with shape (batch_size, max_length)\n",
        "        @return   logits (torch.Tensor): an output tensor with shape (batch_size,\n",
        "                      num_labels)\n",
        "        \"\"\"\n",
        "        # Feed input to BERT\n",
        "        outputs = self.bert(input_ids=input_ids,\n",
        "                            attention_mask=attention_mask)\n",
        "        \n",
        "        # Extract the last hidden state of the token `[CLS]` for classification task\n",
        "        last_hidden_state_cls = outputs[0][:, 0, :]\n",
        "\n",
        "        # Feed input to classifier to compute logits\n",
        "        logits = self.classifier(last_hidden_state_cls)\n",
        "\n",
        "        return logits"
      ],
      "execution_count": null,
      "outputs": [
        {
          "output_type": "stream",
          "text": [
            "CPU times: user 42 µs, sys: 2 µs, total: 44 µs\n",
            "Wall time: 48.4 µs\n"
          ],
          "name": "stdout"
        }
      ]
    },
    {
      "cell_type": "markdown",
      "metadata": {
        "id": "8HYmmRo3Tz45"
      },
      "source": [
        "## Setup BERT Model - Optimizer and Scheduler"
      ]
    },
    {
      "cell_type": "code",
      "metadata": {
        "id": "kTSn045JDI4D"
      },
      "source": [
        "from transformers import AdamW, get_linear_schedule_with_warmup\n",
        "\n",
        "def initialize_model(epochs=4):\n",
        "    \"\"\"Initialize the Bert Classifier, the optimizer and the learning rate scheduler.\n",
        "    \"\"\"\n",
        "    # Instantiate Bert Classifier\n",
        "    bert_classifier = BertClassifier(freeze_bert=False)\n",
        "\n",
        "    # Tell PyTorch to run the model on GPU\n",
        "    bert_classifier.to(device)\n",
        "\n",
        "    # Create the optimizer\n",
        "    optimizer = AdamW(bert_classifier.parameters(),\n",
        "                      lr=5e-5,    # Default learning rate\n",
        "                      eps=1e-8,    # Default epsilon value\n",
        "              \n",
        "                      )\n",
        "\n",
        "    # Total number of training steps\n",
        "    total_steps = len(train_dataloader) * epochs\n",
        "\n",
        "    # Set up the learning rate scheduler\n",
        "    scheduler = get_linear_schedule_with_warmup(optimizer,\n",
        "                                                num_warmup_steps=0, # Default value\n",
        "                                                num_training_steps=total_steps)\n",
        "    return bert_classifier, optimizer, scheduler"
      ],
      "execution_count": null,
      "outputs": []
    },
    {
      "cell_type": "markdown",
      "metadata": {
        "id": "kXhFbW7TT7C7"
      },
      "source": [
        "## Training and Evaluation - Train and Validation"
      ]
    },
    {
      "cell_type": "code",
      "metadata": {
        "id": "mt3gclkMDLQz"
      },
      "source": [
        "import random\n",
        "import time\n",
        "import wandb\n",
        "\n",
        "# Specify loss function - https://pytorch.org/docs/stable/generated/torch.nn.CrossEntropyLoss.html#torch.nn.CrossEntropyLoss\n",
        "loss_fn = nn.CrossEntropyLoss()\n",
        "\n",
        "def set_seed(seed_value=42):\n",
        "    \"\"\"Set seed for reproducibility.\n",
        "    \"\"\"\n",
        "    random.seed(seed_value)\n",
        "    np.random.seed(seed_value)\n",
        "    torch.manual_seed(seed_value)\n",
        "    torch.cuda.manual_seed_all(seed_value)\n",
        "\n",
        "def train(model, train_dataloader, val_dataloader=None, epochs=10, evaluation=False):\n",
        "    \"\"\"Train the BertClassifier model.\n",
        "    \"\"\"\n",
        "    #Initiatlize Weights and Bises Reporting Interface and Hyper parameters\n",
        "    wandb.init(\n",
        "      name=\"CS410 Course Project- Sembian2\",  \n",
        "      notes=\"Course Project\",\n",
        "      tags=[\"baseline\", \"bert-uncased-large\"], \n",
        "      config={\"epochs\": 4, \"batch_size\": 32, \"learning_rate\":5e-5, \"max_seq_length\":89} # Hyper Parameters\n",
        "    )\n",
        "    wandb.watch(model)\n",
        "    # Start training loop\n",
        "    print(\"Start training...\\n\")\n",
        "    for epoch_i in range(epochs):\n",
        "        # =======================================\n",
        "        #               Training\n",
        "        # =======================================\n",
        "        # Print the header of the result table\n",
        "        print(f\"{'Epoch':^7} | {'Batch':^7} | {'Train Loss':^12} | {'Val Loss':^10} | {'Val Acc':^9} | {'Elapsed':^9}\")\n",
        "        print(\"-\"*70)\n",
        "\n",
        "        # Measure the elapsed time of each epoch\n",
        "        t0_epoch, t0_batch = time.time(), time.time()\n",
        "\n",
        "        # Reset tracking variables at the beginning of each epoch\n",
        "        total_loss, batch_loss, batch_counts = 0, 0, 0\n",
        "\n",
        "        # Put the model into the training mode\n",
        "        model.train()\n",
        "        \n",
        "        # For each batch of training data...\n",
        "        for step, batch in enumerate(train_dataloader):\n",
        "            batch_counts +=1\n",
        "            # Load batch to GPU\n",
        "            b_input_ids, b_attn_mask, b_labels = tuple(t.to(device) for t in batch)\n",
        "\n",
        "            # Zero out any previously calculated gradients\n",
        "            model.zero_grad()\n",
        "\n",
        "            # Perform a forward pass. This will return logits.\n",
        "            logits = model(b_input_ids, b_attn_mask)\n",
        "\n",
        "            # Compute loss and accumulate the loss values\n",
        "            loss = loss_fn(logits, b_labels)\n",
        "            batch_loss += loss.item()\n",
        "            total_loss += loss.item()\n",
        "            wandb.log({'train_batch_loss':loss.item()})\n",
        "            # Perform a backward pass to calculate gradients\n",
        "            loss.backward()\n",
        "\n",
        "            # Clip the norm of the gradients to 1.0 to prevent \"exploding gradients\"\n",
        "            torch.nn.utils.clip_grad_norm_(model.parameters(), 1.0)\n",
        "\n",
        "            # Update parameters and the learning rate\n",
        "            optimizer.step()\n",
        "            scheduler.step()\n",
        "            \n",
        "            # Print the loss values and time elapsed for every 20 batches\n",
        "            if (step % 20 == 0 and step != 0) or (step == len(train_dataloader) - 1):\n",
        "                # Calculate time elapsed for 20 batches\n",
        "                time_elapsed = time.time() - t0_batch\n",
        "\n",
        "                # Print training results\n",
        "                print(f\"{epoch_i + 1:^7} | {step:^7} | {batch_loss / batch_counts:^12.6f} | {'-':^10} | {'-':^9} | {time_elapsed:^9.2f}\")\n",
        "\n",
        "                # Reset batch tracking variables\n",
        "                batch_loss, batch_counts = 0, 0\n",
        "                t0_batch = time.time()\n",
        "\n",
        "        # Calculate the average loss over the entire training data\n",
        "        avg_train_loss = total_loss / len(train_dataloader)\n",
        "        wandb.log({'avg_train_loss':avg_train_loss})\n",
        "        print(\"-\"*70)\n",
        "        # =======================================\n",
        "        #               Evaluation\n",
        "        # =======================================\n",
        "        if evaluation == True:\n",
        "            # After the completion of each training epoch, measure the model's performance\n",
        "            # on our validation set.\n",
        "            val_loss, val_accuracy = evaluate(model, val_dataloader)\n",
        "            wandb.log({'val_loss':val_loss.item()})\n",
        "            # Print performance over the entire training data\n",
        "            time_elapsed = time.time() - t0_epoch\n",
        "            \n",
        "            print(f\"{epoch_i + 1:^7} | {'-':^7} | {avg_train_loss:^12.6f} | {val_loss:^10.6f} | {val_accuracy:^9.2f} | {time_elapsed:^9.2f}\")\n",
        "            print(\"-\"*70)\n",
        "        print(\"\\n\")\n",
        "    \n",
        "    print(\"Training complete!\")\n",
        "\n",
        "\n",
        "def evaluate(model, val_dataloader):\n",
        "    \"\"\"After the completion of each training epoch, measure the model's performance\n",
        "    on our validation set.\n",
        "    \"\"\"\n",
        "    # Put the model into the evaluation mode. The dropout layers are disabled during\n",
        "    # the test time.\n",
        "    model.eval()\n",
        "\n",
        "    # Tracking variables\n",
        "    val_accuracy = []\n",
        "    val_loss = []\n",
        "\n",
        "    # For each batch in our validation set...\n",
        "    for batch in val_dataloader:\n",
        "        # Load batch to GPU\n",
        "        b_input_ids, b_attn_mask, b_labels = tuple(t.to(device) for t in batch)\n",
        "\n",
        "        # Compute logits\n",
        "        with torch.no_grad():\n",
        "            logits = model(b_input_ids, b_attn_mask)\n",
        "\n",
        "        # Compute loss\n",
        "        loss = loss_fn(logits, b_labels)\n",
        "        val_loss.append(loss.item())\n",
        "        wandb.log({'val_batch_loss':loss.item()})\n",
        "        # Get the predictions\n",
        "        preds = torch.argmax(logits, dim=1).flatten()\n",
        "\n",
        "        # Calculate the accuracy rate\n",
        "        accuracy = (preds == b_labels).cpu().numpy().mean() * 100\n",
        "        val_accuracy.append(accuracy)\n",
        "        wandb.log({'val_batch_accuracy':accuracy})\n",
        "\n",
        "    # Compute the average accuracy and loss over the validation set.\n",
        "    val_loss = np.mean(val_loss)\n",
        "    val_accuracy = np.mean(val_accuracy)\n",
        "    wandb.log({'val_accuracy':val_accuracy})\n",
        "    return val_loss, val_accuracy"
      ],
      "execution_count": null,
      "outputs": []
    },
    {
      "cell_type": "markdown",
      "metadata": {
        "id": "I7isOOmlUBFT"
      },
      "source": [
        "## Training Loop "
      ]
    },
    {
      "cell_type": "code",
      "metadata": {
        "id": "q-PoWGjhDSVG",
        "colab": {
          "base_uri": "https://localhost:8080/",
          "height": 1000
        },
        "outputId": "bb68ba79-6912-41bc-841b-cac31ad3a9d2"
      },
      "source": [
        "set_seed(42)    # Set seed for reproducibility\n",
        "bert_classifier, optimizer, scheduler = initialize_model(epochs=4)\n",
        "train(bert_classifier, train_dataloader, val_dataloader, epochs=4, evaluation=True)\n",
        "#if prompted use the wandb API : 3bc9b939f056bd657fd4879b8ac42f85b111fc4f"
      ],
      "execution_count": null,
      "outputs": [
        {
          "output_type": "stream",
          "text": [
            "\u001b[34m\u001b[1mwandb\u001b[0m: Currently logged in as: \u001b[33mbalasubramanian\u001b[0m (use `wandb login --relogin` to force relogin)\n"
          ],
          "name": "stderr"
        },
        {
          "output_type": "display_data",
          "data": {
            "text/html": [
              "\n",
              "                Tracking run with wandb version 0.10.11<br/>\n",
              "                Syncing run <strong style=\"color:#cdcd00\">CS410 Course Project- Sembian2</strong> to <a href=\"https://wandb.ai\" target=\"_blank\">Weights & Biases</a> <a href=\"https://docs.wandb.com/integrations/jupyter.html\" target=\"_blank\">(Documentation)</a>.<br/>\n",
              "                Project page: <a href=\"https://wandb.ai/balasubramanian/uncategorized\" target=\"_blank\">https://wandb.ai/balasubramanian/uncategorized</a><br/>\n",
              "                Run page: <a href=\"https://wandb.ai/balasubramanian/uncategorized/runs/3n97k2nf\" target=\"_blank\">https://wandb.ai/balasubramanian/uncategorized/runs/3n97k2nf</a><br/>\n",
              "                Run data is saved locally in <code>/content/wandb/run-20201202_130138-3n97k2nf</code><br/><br/>\n",
              "            "
            ],
            "text/plain": [
              "<IPython.core.display.HTML object>"
            ]
          },
          "metadata": {
            "tags": []
          }
        },
        {
          "output_type": "stream",
          "text": [
            "Start training...\n",
            "\n",
            " Epoch  |  Batch  |  Train Loss  |  Val Loss  |  Val Acc  |  Elapsed \n",
            "----------------------------------------------------------------------\n",
            "   1    |   20    |   0.664404   |     -      |     -     |   32.15  \n",
            "   1    |   40    |   0.534449   |     -      |     -     |   31.31  \n",
            "   1    |   60    |   0.533544   |     -      |     -     |   32.02  \n",
            "   1    |   80    |   0.500559   |     -      |     -     |   32.48  \n",
            "   1    |   100   |   0.479444   |     -      |     -     |   33.07  \n",
            "   1    |   104   |   0.415712   |     -      |     -     |   6.18   \n",
            "----------------------------------------------------------------------\n",
            "   1    |    -    |   0.538812   |  0.444033  |   79.88   |  197.13  \n",
            "----------------------------------------------------------------------\n",
            "\n",
            "\n",
            " Epoch  |  Batch  |  Train Loss  |  Val Loss  |  Val Acc  |  Elapsed \n",
            "----------------------------------------------------------------------\n",
            "   2    |   20    |   0.291500   |     -      |     -     |   34.65  \n",
            "   2    |   40    |   0.280435   |     -      |     -     |   33.11  \n",
            "   2    |   60    |   0.300033   |     -      |     -     |   33.18  \n",
            "   2    |   80    |   0.294220   |     -      |     -     |   33.18  \n",
            "   2    |   100   |   0.264788   |     -      |     -     |   33.14  \n",
            "   2    |   104   |   0.178849   |     -      |     -     |   6.14   \n",
            "----------------------------------------------------------------------\n",
            "   2    |    -    |   0.282156   |  0.582648  |   78.42   |  203.05  \n",
            "----------------------------------------------------------------------\n",
            "\n",
            "\n",
            " Epoch  |  Batch  |  Train Loss  |  Val Loss  |  Val Acc  |  Elapsed \n",
            "----------------------------------------------------------------------\n",
            "   3    |   20    |   0.178021   |     -      |     -     |   34.65  \n",
            "   3    |   40    |   0.084245   |     -      |     -     |   33.06  \n",
            "   3    |   60    |   0.126948   |     -      |     -     |   33.06  \n",
            "   3    |   80    |   0.113072   |     -      |     -     |   33.08  \n",
            "   3    |   100   |   0.097395   |     -      |     -     |   33.05  \n",
            "   3    |   104   |   0.030649   |     -      |     -     |   6.11   \n",
            "----------------------------------------------------------------------\n",
            "   3    |    -    |   0.117088   |  0.745395  |   79.05   |  202.73  \n",
            "----------------------------------------------------------------------\n",
            "\n",
            "\n",
            " Epoch  |  Batch  |  Train Loss  |  Val Loss  |  Val Acc  |  Elapsed \n",
            "----------------------------------------------------------------------\n",
            "   4    |   20    |   0.032811   |     -      |     -     |   34.57  \n",
            "   4    |   40    |   0.025885   |     -      |     -     |   32.93  \n",
            "   4    |   60    |   0.056671   |     -      |     -     |   33.06  \n",
            "   4    |   80    |   0.051280   |     -      |     -     |   32.94  \n",
            "   4    |   100   |   0.024765   |     -      |     -     |   32.93  \n",
            "   4    |   104   |   0.079427   |     -      |     -     |   6.13   \n",
            "----------------------------------------------------------------------\n",
            "   4    |    -    |   0.039798   |  0.846048  |   81.17   |  202.25  \n",
            "----------------------------------------------------------------------\n",
            "\n",
            "\n",
            "Training complete!\n"
          ],
          "name": "stdout"
        }
      ]
    },
    {
      "cell_type": "markdown",
      "metadata": {
        "id": "uBKySYitUGQB"
      },
      "source": [
        "## Predictions Setup"
      ]
    },
    {
      "cell_type": "code",
      "metadata": {
        "id": "Oik0jenADUgU"
      },
      "source": [
        "import torch.nn.functional as F\n",
        "\n",
        "def bert_predict(model, test_dataloader):\n",
        "    \"\"\"Perform a forward pass on the trained BERT model to predict probabilities\n",
        "    on the test set.\n",
        "    \"\"\"\n",
        "    # Put the model into the evaluation mode. The dropout layers are disabled during\n",
        "    # the test time.\n",
        "    model.eval()\n",
        "\n",
        "    all_logits = []\n",
        "\n",
        "    # For each batch in our test set...\n",
        "    for batch in test_dataloader:\n",
        "        # Load batch to GPU\n",
        "        b_input_ids, b_attn_mask = tuple(t.to(device) for t in batch)[:2]\n",
        "\n",
        "        # Compute logits\n",
        "        with torch.no_grad():\n",
        "            logits = model(b_input_ids, b_attn_mask)\n",
        "        all_logits.append(logits)\n",
        "    \n",
        "    # Concatenate logits from each batch\n",
        "    all_logits = torch.cat(all_logits, dim=0)\n",
        "\n",
        "    # Apply softmax to calculate probabilities\n",
        "    probs = F.softmax(all_logits, dim=1).cpu().numpy()\n",
        "\n",
        "    return probs"
      ],
      "execution_count": null,
      "outputs": []
    },
    {
      "cell_type": "markdown",
      "metadata": {
        "id": "2ZAtha9kdsgD"
      },
      "source": [
        "## Model Summary"
      ]
    },
    {
      "cell_type": "code",
      "metadata": {
        "colab": {
          "base_uri": "https://localhost:8080/"
        },
        "id": "whHV7Dnza_1-",
        "outputId": "78b3dc25-168b-4363-82c6-ecf0597cf3c5"
      },
      "source": [
        "bert_classifier"
      ],
      "execution_count": null,
      "outputs": [
        {
          "output_type": "execute_result",
          "data": {
            "text/plain": [
              "BertClassifier(\n",
              "  (bert): BertModel(\n",
              "    (embeddings): BertEmbeddings(\n",
              "      (word_embeddings): Embedding(30522, 1024, padding_idx=0)\n",
              "      (position_embeddings): Embedding(512, 1024)\n",
              "      (token_type_embeddings): Embedding(2, 1024)\n",
              "      (LayerNorm): LayerNorm((1024,), eps=1e-12, elementwise_affine=True)\n",
              "      (dropout): Dropout(p=0.1, inplace=False)\n",
              "    )\n",
              "    (encoder): BertEncoder(\n",
              "      (layer): ModuleList(\n",
              "        (0): BertLayer(\n",
              "          (attention): BertAttention(\n",
              "            (self): BertSelfAttention(\n",
              "              (query): Linear(in_features=1024, out_features=1024, bias=True)\n",
              "              (key): Linear(in_features=1024, out_features=1024, bias=True)\n",
              "              (value): Linear(in_features=1024, out_features=1024, bias=True)\n",
              "              (dropout): Dropout(p=0.1, inplace=False)\n",
              "            )\n",
              "            (output): BertSelfOutput(\n",
              "              (dense): Linear(in_features=1024, out_features=1024, bias=True)\n",
              "              (LayerNorm): LayerNorm((1024,), eps=1e-12, elementwise_affine=True)\n",
              "              (dropout): Dropout(p=0.1, inplace=False)\n",
              "            )\n",
              "          )\n",
              "          (intermediate): BertIntermediate(\n",
              "            (dense): Linear(in_features=1024, out_features=4096, bias=True)\n",
              "          )\n",
              "          (output): BertOutput(\n",
              "            (dense): Linear(in_features=4096, out_features=1024, bias=True)\n",
              "            (LayerNorm): LayerNorm((1024,), eps=1e-12, elementwise_affine=True)\n",
              "            (dropout): Dropout(p=0.1, inplace=False)\n",
              "          )\n",
              "        )\n",
              "        (1): BertLayer(\n",
              "          (attention): BertAttention(\n",
              "            (self): BertSelfAttention(\n",
              "              (query): Linear(in_features=1024, out_features=1024, bias=True)\n",
              "              (key): Linear(in_features=1024, out_features=1024, bias=True)\n",
              "              (value): Linear(in_features=1024, out_features=1024, bias=True)\n",
              "              (dropout): Dropout(p=0.1, inplace=False)\n",
              "            )\n",
              "            (output): BertSelfOutput(\n",
              "              (dense): Linear(in_features=1024, out_features=1024, bias=True)\n",
              "              (LayerNorm): LayerNorm((1024,), eps=1e-12, elementwise_affine=True)\n",
              "              (dropout): Dropout(p=0.1, inplace=False)\n",
              "            )\n",
              "          )\n",
              "          (intermediate): BertIntermediate(\n",
              "            (dense): Linear(in_features=1024, out_features=4096, bias=True)\n",
              "          )\n",
              "          (output): BertOutput(\n",
              "            (dense): Linear(in_features=4096, out_features=1024, bias=True)\n",
              "            (LayerNorm): LayerNorm((1024,), eps=1e-12, elementwise_affine=True)\n",
              "            (dropout): Dropout(p=0.1, inplace=False)\n",
              "          )\n",
              "        )\n",
              "        (2): BertLayer(\n",
              "          (attention): BertAttention(\n",
              "            (self): BertSelfAttention(\n",
              "              (query): Linear(in_features=1024, out_features=1024, bias=True)\n",
              "              (key): Linear(in_features=1024, out_features=1024, bias=True)\n",
              "              (value): Linear(in_features=1024, out_features=1024, bias=True)\n",
              "              (dropout): Dropout(p=0.1, inplace=False)\n",
              "            )\n",
              "            (output): BertSelfOutput(\n",
              "              (dense): Linear(in_features=1024, out_features=1024, bias=True)\n",
              "              (LayerNorm): LayerNorm((1024,), eps=1e-12, elementwise_affine=True)\n",
              "              (dropout): Dropout(p=0.1, inplace=False)\n",
              "            )\n",
              "          )\n",
              "          (intermediate): BertIntermediate(\n",
              "            (dense): Linear(in_features=1024, out_features=4096, bias=True)\n",
              "          )\n",
              "          (output): BertOutput(\n",
              "            (dense): Linear(in_features=4096, out_features=1024, bias=True)\n",
              "            (LayerNorm): LayerNorm((1024,), eps=1e-12, elementwise_affine=True)\n",
              "            (dropout): Dropout(p=0.1, inplace=False)\n",
              "          )\n",
              "        )\n",
              "        (3): BertLayer(\n",
              "          (attention): BertAttention(\n",
              "            (self): BertSelfAttention(\n",
              "              (query): Linear(in_features=1024, out_features=1024, bias=True)\n",
              "              (key): Linear(in_features=1024, out_features=1024, bias=True)\n",
              "              (value): Linear(in_features=1024, out_features=1024, bias=True)\n",
              "              (dropout): Dropout(p=0.1, inplace=False)\n",
              "            )\n",
              "            (output): BertSelfOutput(\n",
              "              (dense): Linear(in_features=1024, out_features=1024, bias=True)\n",
              "              (LayerNorm): LayerNorm((1024,), eps=1e-12, elementwise_affine=True)\n",
              "              (dropout): Dropout(p=0.1, inplace=False)\n",
              "            )\n",
              "          )\n",
              "          (intermediate): BertIntermediate(\n",
              "            (dense): Linear(in_features=1024, out_features=4096, bias=True)\n",
              "          )\n",
              "          (output): BertOutput(\n",
              "            (dense): Linear(in_features=4096, out_features=1024, bias=True)\n",
              "            (LayerNorm): LayerNorm((1024,), eps=1e-12, elementwise_affine=True)\n",
              "            (dropout): Dropout(p=0.1, inplace=False)\n",
              "          )\n",
              "        )\n",
              "        (4): BertLayer(\n",
              "          (attention): BertAttention(\n",
              "            (self): BertSelfAttention(\n",
              "              (query): Linear(in_features=1024, out_features=1024, bias=True)\n",
              "              (key): Linear(in_features=1024, out_features=1024, bias=True)\n",
              "              (value): Linear(in_features=1024, out_features=1024, bias=True)\n",
              "              (dropout): Dropout(p=0.1, inplace=False)\n",
              "            )\n",
              "            (output): BertSelfOutput(\n",
              "              (dense): Linear(in_features=1024, out_features=1024, bias=True)\n",
              "              (LayerNorm): LayerNorm((1024,), eps=1e-12, elementwise_affine=True)\n",
              "              (dropout): Dropout(p=0.1, inplace=False)\n",
              "            )\n",
              "          )\n",
              "          (intermediate): BertIntermediate(\n",
              "            (dense): Linear(in_features=1024, out_features=4096, bias=True)\n",
              "          )\n",
              "          (output): BertOutput(\n",
              "            (dense): Linear(in_features=4096, out_features=1024, bias=True)\n",
              "            (LayerNorm): LayerNorm((1024,), eps=1e-12, elementwise_affine=True)\n",
              "            (dropout): Dropout(p=0.1, inplace=False)\n",
              "          )\n",
              "        )\n",
              "        (5): BertLayer(\n",
              "          (attention): BertAttention(\n",
              "            (self): BertSelfAttention(\n",
              "              (query): Linear(in_features=1024, out_features=1024, bias=True)\n",
              "              (key): Linear(in_features=1024, out_features=1024, bias=True)\n",
              "              (value): Linear(in_features=1024, out_features=1024, bias=True)\n",
              "              (dropout): Dropout(p=0.1, inplace=False)\n",
              "            )\n",
              "            (output): BertSelfOutput(\n",
              "              (dense): Linear(in_features=1024, out_features=1024, bias=True)\n",
              "              (LayerNorm): LayerNorm((1024,), eps=1e-12, elementwise_affine=True)\n",
              "              (dropout): Dropout(p=0.1, inplace=False)\n",
              "            )\n",
              "          )\n",
              "          (intermediate): BertIntermediate(\n",
              "            (dense): Linear(in_features=1024, out_features=4096, bias=True)\n",
              "          )\n",
              "          (output): BertOutput(\n",
              "            (dense): Linear(in_features=4096, out_features=1024, bias=True)\n",
              "            (LayerNorm): LayerNorm((1024,), eps=1e-12, elementwise_affine=True)\n",
              "            (dropout): Dropout(p=0.1, inplace=False)\n",
              "          )\n",
              "        )\n",
              "        (6): BertLayer(\n",
              "          (attention): BertAttention(\n",
              "            (self): BertSelfAttention(\n",
              "              (query): Linear(in_features=1024, out_features=1024, bias=True)\n",
              "              (key): Linear(in_features=1024, out_features=1024, bias=True)\n",
              "              (value): Linear(in_features=1024, out_features=1024, bias=True)\n",
              "              (dropout): Dropout(p=0.1, inplace=False)\n",
              "            )\n",
              "            (output): BertSelfOutput(\n",
              "              (dense): Linear(in_features=1024, out_features=1024, bias=True)\n",
              "              (LayerNorm): LayerNorm((1024,), eps=1e-12, elementwise_affine=True)\n",
              "              (dropout): Dropout(p=0.1, inplace=False)\n",
              "            )\n",
              "          )\n",
              "          (intermediate): BertIntermediate(\n",
              "            (dense): Linear(in_features=1024, out_features=4096, bias=True)\n",
              "          )\n",
              "          (output): BertOutput(\n",
              "            (dense): Linear(in_features=4096, out_features=1024, bias=True)\n",
              "            (LayerNorm): LayerNorm((1024,), eps=1e-12, elementwise_affine=True)\n",
              "            (dropout): Dropout(p=0.1, inplace=False)\n",
              "          )\n",
              "        )\n",
              "        (7): BertLayer(\n",
              "          (attention): BertAttention(\n",
              "            (self): BertSelfAttention(\n",
              "              (query): Linear(in_features=1024, out_features=1024, bias=True)\n",
              "              (key): Linear(in_features=1024, out_features=1024, bias=True)\n",
              "              (value): Linear(in_features=1024, out_features=1024, bias=True)\n",
              "              (dropout): Dropout(p=0.1, inplace=False)\n",
              "            )\n",
              "            (output): BertSelfOutput(\n",
              "              (dense): Linear(in_features=1024, out_features=1024, bias=True)\n",
              "              (LayerNorm): LayerNorm((1024,), eps=1e-12, elementwise_affine=True)\n",
              "              (dropout): Dropout(p=0.1, inplace=False)\n",
              "            )\n",
              "          )\n",
              "          (intermediate): BertIntermediate(\n",
              "            (dense): Linear(in_features=1024, out_features=4096, bias=True)\n",
              "          )\n",
              "          (output): BertOutput(\n",
              "            (dense): Linear(in_features=4096, out_features=1024, bias=True)\n",
              "            (LayerNorm): LayerNorm((1024,), eps=1e-12, elementwise_affine=True)\n",
              "            (dropout): Dropout(p=0.1, inplace=False)\n",
              "          )\n",
              "        )\n",
              "        (8): BertLayer(\n",
              "          (attention): BertAttention(\n",
              "            (self): BertSelfAttention(\n",
              "              (query): Linear(in_features=1024, out_features=1024, bias=True)\n",
              "              (key): Linear(in_features=1024, out_features=1024, bias=True)\n",
              "              (value): Linear(in_features=1024, out_features=1024, bias=True)\n",
              "              (dropout): Dropout(p=0.1, inplace=False)\n",
              "            )\n",
              "            (output): BertSelfOutput(\n",
              "              (dense): Linear(in_features=1024, out_features=1024, bias=True)\n",
              "              (LayerNorm): LayerNorm((1024,), eps=1e-12, elementwise_affine=True)\n",
              "              (dropout): Dropout(p=0.1, inplace=False)\n",
              "            )\n",
              "          )\n",
              "          (intermediate): BertIntermediate(\n",
              "            (dense): Linear(in_features=1024, out_features=4096, bias=True)\n",
              "          )\n",
              "          (output): BertOutput(\n",
              "            (dense): Linear(in_features=4096, out_features=1024, bias=True)\n",
              "            (LayerNorm): LayerNorm((1024,), eps=1e-12, elementwise_affine=True)\n",
              "            (dropout): Dropout(p=0.1, inplace=False)\n",
              "          )\n",
              "        )\n",
              "        (9): BertLayer(\n",
              "          (attention): BertAttention(\n",
              "            (self): BertSelfAttention(\n",
              "              (query): Linear(in_features=1024, out_features=1024, bias=True)\n",
              "              (key): Linear(in_features=1024, out_features=1024, bias=True)\n",
              "              (value): Linear(in_features=1024, out_features=1024, bias=True)\n",
              "              (dropout): Dropout(p=0.1, inplace=False)\n",
              "            )\n",
              "            (output): BertSelfOutput(\n",
              "              (dense): Linear(in_features=1024, out_features=1024, bias=True)\n",
              "              (LayerNorm): LayerNorm((1024,), eps=1e-12, elementwise_affine=True)\n",
              "              (dropout): Dropout(p=0.1, inplace=False)\n",
              "            )\n",
              "          )\n",
              "          (intermediate): BertIntermediate(\n",
              "            (dense): Linear(in_features=1024, out_features=4096, bias=True)\n",
              "          )\n",
              "          (output): BertOutput(\n",
              "            (dense): Linear(in_features=4096, out_features=1024, bias=True)\n",
              "            (LayerNorm): LayerNorm((1024,), eps=1e-12, elementwise_affine=True)\n",
              "            (dropout): Dropout(p=0.1, inplace=False)\n",
              "          )\n",
              "        )\n",
              "        (10): BertLayer(\n",
              "          (attention): BertAttention(\n",
              "            (self): BertSelfAttention(\n",
              "              (query): Linear(in_features=1024, out_features=1024, bias=True)\n",
              "              (key): Linear(in_features=1024, out_features=1024, bias=True)\n",
              "              (value): Linear(in_features=1024, out_features=1024, bias=True)\n",
              "              (dropout): Dropout(p=0.1, inplace=False)\n",
              "            )\n",
              "            (output): BertSelfOutput(\n",
              "              (dense): Linear(in_features=1024, out_features=1024, bias=True)\n",
              "              (LayerNorm): LayerNorm((1024,), eps=1e-12, elementwise_affine=True)\n",
              "              (dropout): Dropout(p=0.1, inplace=False)\n",
              "            )\n",
              "          )\n",
              "          (intermediate): BertIntermediate(\n",
              "            (dense): Linear(in_features=1024, out_features=4096, bias=True)\n",
              "          )\n",
              "          (output): BertOutput(\n",
              "            (dense): Linear(in_features=4096, out_features=1024, bias=True)\n",
              "            (LayerNorm): LayerNorm((1024,), eps=1e-12, elementwise_affine=True)\n",
              "            (dropout): Dropout(p=0.1, inplace=False)\n",
              "          )\n",
              "        )\n",
              "        (11): BertLayer(\n",
              "          (attention): BertAttention(\n",
              "            (self): BertSelfAttention(\n",
              "              (query): Linear(in_features=1024, out_features=1024, bias=True)\n",
              "              (key): Linear(in_features=1024, out_features=1024, bias=True)\n",
              "              (value): Linear(in_features=1024, out_features=1024, bias=True)\n",
              "              (dropout): Dropout(p=0.1, inplace=False)\n",
              "            )\n",
              "            (output): BertSelfOutput(\n",
              "              (dense): Linear(in_features=1024, out_features=1024, bias=True)\n",
              "              (LayerNorm): LayerNorm((1024,), eps=1e-12, elementwise_affine=True)\n",
              "              (dropout): Dropout(p=0.1, inplace=False)\n",
              "            )\n",
              "          )\n",
              "          (intermediate): BertIntermediate(\n",
              "            (dense): Linear(in_features=1024, out_features=4096, bias=True)\n",
              "          )\n",
              "          (output): BertOutput(\n",
              "            (dense): Linear(in_features=4096, out_features=1024, bias=True)\n",
              "            (LayerNorm): LayerNorm((1024,), eps=1e-12, elementwise_affine=True)\n",
              "            (dropout): Dropout(p=0.1, inplace=False)\n",
              "          )\n",
              "        )\n",
              "        (12): BertLayer(\n",
              "          (attention): BertAttention(\n",
              "            (self): BertSelfAttention(\n",
              "              (query): Linear(in_features=1024, out_features=1024, bias=True)\n",
              "              (key): Linear(in_features=1024, out_features=1024, bias=True)\n",
              "              (value): Linear(in_features=1024, out_features=1024, bias=True)\n",
              "              (dropout): Dropout(p=0.1, inplace=False)\n",
              "            )\n",
              "            (output): BertSelfOutput(\n",
              "              (dense): Linear(in_features=1024, out_features=1024, bias=True)\n",
              "              (LayerNorm): LayerNorm((1024,), eps=1e-12, elementwise_affine=True)\n",
              "              (dropout): Dropout(p=0.1, inplace=False)\n",
              "            )\n",
              "          )\n",
              "          (intermediate): BertIntermediate(\n",
              "            (dense): Linear(in_features=1024, out_features=4096, bias=True)\n",
              "          )\n",
              "          (output): BertOutput(\n",
              "            (dense): Linear(in_features=4096, out_features=1024, bias=True)\n",
              "            (LayerNorm): LayerNorm((1024,), eps=1e-12, elementwise_affine=True)\n",
              "            (dropout): Dropout(p=0.1, inplace=False)\n",
              "          )\n",
              "        )\n",
              "        (13): BertLayer(\n",
              "          (attention): BertAttention(\n",
              "            (self): BertSelfAttention(\n",
              "              (query): Linear(in_features=1024, out_features=1024, bias=True)\n",
              "              (key): Linear(in_features=1024, out_features=1024, bias=True)\n",
              "              (value): Linear(in_features=1024, out_features=1024, bias=True)\n",
              "              (dropout): Dropout(p=0.1, inplace=False)\n",
              "            )\n",
              "            (output): BertSelfOutput(\n",
              "              (dense): Linear(in_features=1024, out_features=1024, bias=True)\n",
              "              (LayerNorm): LayerNorm((1024,), eps=1e-12, elementwise_affine=True)\n",
              "              (dropout): Dropout(p=0.1, inplace=False)\n",
              "            )\n",
              "          )\n",
              "          (intermediate): BertIntermediate(\n",
              "            (dense): Linear(in_features=1024, out_features=4096, bias=True)\n",
              "          )\n",
              "          (output): BertOutput(\n",
              "            (dense): Linear(in_features=4096, out_features=1024, bias=True)\n",
              "            (LayerNorm): LayerNorm((1024,), eps=1e-12, elementwise_affine=True)\n",
              "            (dropout): Dropout(p=0.1, inplace=False)\n",
              "          )\n",
              "        )\n",
              "        (14): BertLayer(\n",
              "          (attention): BertAttention(\n",
              "            (self): BertSelfAttention(\n",
              "              (query): Linear(in_features=1024, out_features=1024, bias=True)\n",
              "              (key): Linear(in_features=1024, out_features=1024, bias=True)\n",
              "              (value): Linear(in_features=1024, out_features=1024, bias=True)\n",
              "              (dropout): Dropout(p=0.1, inplace=False)\n",
              "            )\n",
              "            (output): BertSelfOutput(\n",
              "              (dense): Linear(in_features=1024, out_features=1024, bias=True)\n",
              "              (LayerNorm): LayerNorm((1024,), eps=1e-12, elementwise_affine=True)\n",
              "              (dropout): Dropout(p=0.1, inplace=False)\n",
              "            )\n",
              "          )\n",
              "          (intermediate): BertIntermediate(\n",
              "            (dense): Linear(in_features=1024, out_features=4096, bias=True)\n",
              "          )\n",
              "          (output): BertOutput(\n",
              "            (dense): Linear(in_features=4096, out_features=1024, bias=True)\n",
              "            (LayerNorm): LayerNorm((1024,), eps=1e-12, elementwise_affine=True)\n",
              "            (dropout): Dropout(p=0.1, inplace=False)\n",
              "          )\n",
              "        )\n",
              "        (15): BertLayer(\n",
              "          (attention): BertAttention(\n",
              "            (self): BertSelfAttention(\n",
              "              (query): Linear(in_features=1024, out_features=1024, bias=True)\n",
              "              (key): Linear(in_features=1024, out_features=1024, bias=True)\n",
              "              (value): Linear(in_features=1024, out_features=1024, bias=True)\n",
              "              (dropout): Dropout(p=0.1, inplace=False)\n",
              "            )\n",
              "            (output): BertSelfOutput(\n",
              "              (dense): Linear(in_features=1024, out_features=1024, bias=True)\n",
              "              (LayerNorm): LayerNorm((1024,), eps=1e-12, elementwise_affine=True)\n",
              "              (dropout): Dropout(p=0.1, inplace=False)\n",
              "            )\n",
              "          )\n",
              "          (intermediate): BertIntermediate(\n",
              "            (dense): Linear(in_features=1024, out_features=4096, bias=True)\n",
              "          )\n",
              "          (output): BertOutput(\n",
              "            (dense): Linear(in_features=4096, out_features=1024, bias=True)\n",
              "            (LayerNorm): LayerNorm((1024,), eps=1e-12, elementwise_affine=True)\n",
              "            (dropout): Dropout(p=0.1, inplace=False)\n",
              "          )\n",
              "        )\n",
              "        (16): BertLayer(\n",
              "          (attention): BertAttention(\n",
              "            (self): BertSelfAttention(\n",
              "              (query): Linear(in_features=1024, out_features=1024, bias=True)\n",
              "              (key): Linear(in_features=1024, out_features=1024, bias=True)\n",
              "              (value): Linear(in_features=1024, out_features=1024, bias=True)\n",
              "              (dropout): Dropout(p=0.1, inplace=False)\n",
              "            )\n",
              "            (output): BertSelfOutput(\n",
              "              (dense): Linear(in_features=1024, out_features=1024, bias=True)\n",
              "              (LayerNorm): LayerNorm((1024,), eps=1e-12, elementwise_affine=True)\n",
              "              (dropout): Dropout(p=0.1, inplace=False)\n",
              "            )\n",
              "          )\n",
              "          (intermediate): BertIntermediate(\n",
              "            (dense): Linear(in_features=1024, out_features=4096, bias=True)\n",
              "          )\n",
              "          (output): BertOutput(\n",
              "            (dense): Linear(in_features=4096, out_features=1024, bias=True)\n",
              "            (LayerNorm): LayerNorm((1024,), eps=1e-12, elementwise_affine=True)\n",
              "            (dropout): Dropout(p=0.1, inplace=False)\n",
              "          )\n",
              "        )\n",
              "        (17): BertLayer(\n",
              "          (attention): BertAttention(\n",
              "            (self): BertSelfAttention(\n",
              "              (query): Linear(in_features=1024, out_features=1024, bias=True)\n",
              "              (key): Linear(in_features=1024, out_features=1024, bias=True)\n",
              "              (value): Linear(in_features=1024, out_features=1024, bias=True)\n",
              "              (dropout): Dropout(p=0.1, inplace=False)\n",
              "            )\n",
              "            (output): BertSelfOutput(\n",
              "              (dense): Linear(in_features=1024, out_features=1024, bias=True)\n",
              "              (LayerNorm): LayerNorm((1024,), eps=1e-12, elementwise_affine=True)\n",
              "              (dropout): Dropout(p=0.1, inplace=False)\n",
              "            )\n",
              "          )\n",
              "          (intermediate): BertIntermediate(\n",
              "            (dense): Linear(in_features=1024, out_features=4096, bias=True)\n",
              "          )\n",
              "          (output): BertOutput(\n",
              "            (dense): Linear(in_features=4096, out_features=1024, bias=True)\n",
              "            (LayerNorm): LayerNorm((1024,), eps=1e-12, elementwise_affine=True)\n",
              "            (dropout): Dropout(p=0.1, inplace=False)\n",
              "          )\n",
              "        )\n",
              "        (18): BertLayer(\n",
              "          (attention): BertAttention(\n",
              "            (self): BertSelfAttention(\n",
              "              (query): Linear(in_features=1024, out_features=1024, bias=True)\n",
              "              (key): Linear(in_features=1024, out_features=1024, bias=True)\n",
              "              (value): Linear(in_features=1024, out_features=1024, bias=True)\n",
              "              (dropout): Dropout(p=0.1, inplace=False)\n",
              "            )\n",
              "            (output): BertSelfOutput(\n",
              "              (dense): Linear(in_features=1024, out_features=1024, bias=True)\n",
              "              (LayerNorm): LayerNorm((1024,), eps=1e-12, elementwise_affine=True)\n",
              "              (dropout): Dropout(p=0.1, inplace=False)\n",
              "            )\n",
              "          )\n",
              "          (intermediate): BertIntermediate(\n",
              "            (dense): Linear(in_features=1024, out_features=4096, bias=True)\n",
              "          )\n",
              "          (output): BertOutput(\n",
              "            (dense): Linear(in_features=4096, out_features=1024, bias=True)\n",
              "            (LayerNorm): LayerNorm((1024,), eps=1e-12, elementwise_affine=True)\n",
              "            (dropout): Dropout(p=0.1, inplace=False)\n",
              "          )\n",
              "        )\n",
              "        (19): BertLayer(\n",
              "          (attention): BertAttention(\n",
              "            (self): BertSelfAttention(\n",
              "              (query): Linear(in_features=1024, out_features=1024, bias=True)\n",
              "              (key): Linear(in_features=1024, out_features=1024, bias=True)\n",
              "              (value): Linear(in_features=1024, out_features=1024, bias=True)\n",
              "              (dropout): Dropout(p=0.1, inplace=False)\n",
              "            )\n",
              "            (output): BertSelfOutput(\n",
              "              (dense): Linear(in_features=1024, out_features=1024, bias=True)\n",
              "              (LayerNorm): LayerNorm((1024,), eps=1e-12, elementwise_affine=True)\n",
              "              (dropout): Dropout(p=0.1, inplace=False)\n",
              "            )\n",
              "          )\n",
              "          (intermediate): BertIntermediate(\n",
              "            (dense): Linear(in_features=1024, out_features=4096, bias=True)\n",
              "          )\n",
              "          (output): BertOutput(\n",
              "            (dense): Linear(in_features=4096, out_features=1024, bias=True)\n",
              "            (LayerNorm): LayerNorm((1024,), eps=1e-12, elementwise_affine=True)\n",
              "            (dropout): Dropout(p=0.1, inplace=False)\n",
              "          )\n",
              "        )\n",
              "        (20): BertLayer(\n",
              "          (attention): BertAttention(\n",
              "            (self): BertSelfAttention(\n",
              "              (query): Linear(in_features=1024, out_features=1024, bias=True)\n",
              "              (key): Linear(in_features=1024, out_features=1024, bias=True)\n",
              "              (value): Linear(in_features=1024, out_features=1024, bias=True)\n",
              "              (dropout): Dropout(p=0.1, inplace=False)\n",
              "            )\n",
              "            (output): BertSelfOutput(\n",
              "              (dense): Linear(in_features=1024, out_features=1024, bias=True)\n",
              "              (LayerNorm): LayerNorm((1024,), eps=1e-12, elementwise_affine=True)\n",
              "              (dropout): Dropout(p=0.1, inplace=False)\n",
              "            )\n",
              "          )\n",
              "          (intermediate): BertIntermediate(\n",
              "            (dense): Linear(in_features=1024, out_features=4096, bias=True)\n",
              "          )\n",
              "          (output): BertOutput(\n",
              "            (dense): Linear(in_features=4096, out_features=1024, bias=True)\n",
              "            (LayerNorm): LayerNorm((1024,), eps=1e-12, elementwise_affine=True)\n",
              "            (dropout): Dropout(p=0.1, inplace=False)\n",
              "          )\n",
              "        )\n",
              "        (21): BertLayer(\n",
              "          (attention): BertAttention(\n",
              "            (self): BertSelfAttention(\n",
              "              (query): Linear(in_features=1024, out_features=1024, bias=True)\n",
              "              (key): Linear(in_features=1024, out_features=1024, bias=True)\n",
              "              (value): Linear(in_features=1024, out_features=1024, bias=True)\n",
              "              (dropout): Dropout(p=0.1, inplace=False)\n",
              "            )\n",
              "            (output): BertSelfOutput(\n",
              "              (dense): Linear(in_features=1024, out_features=1024, bias=True)\n",
              "              (LayerNorm): LayerNorm((1024,), eps=1e-12, elementwise_affine=True)\n",
              "              (dropout): Dropout(p=0.1, inplace=False)\n",
              "            )\n",
              "          )\n",
              "          (intermediate): BertIntermediate(\n",
              "            (dense): Linear(in_features=1024, out_features=4096, bias=True)\n",
              "          )\n",
              "          (output): BertOutput(\n",
              "            (dense): Linear(in_features=4096, out_features=1024, bias=True)\n",
              "            (LayerNorm): LayerNorm((1024,), eps=1e-12, elementwise_affine=True)\n",
              "            (dropout): Dropout(p=0.1, inplace=False)\n",
              "          )\n",
              "        )\n",
              "        (22): BertLayer(\n",
              "          (attention): BertAttention(\n",
              "            (self): BertSelfAttention(\n",
              "              (query): Linear(in_features=1024, out_features=1024, bias=True)\n",
              "              (key): Linear(in_features=1024, out_features=1024, bias=True)\n",
              "              (value): Linear(in_features=1024, out_features=1024, bias=True)\n",
              "              (dropout): Dropout(p=0.1, inplace=False)\n",
              "            )\n",
              "            (output): BertSelfOutput(\n",
              "              (dense): Linear(in_features=1024, out_features=1024, bias=True)\n",
              "              (LayerNorm): LayerNorm((1024,), eps=1e-12, elementwise_affine=True)\n",
              "              (dropout): Dropout(p=0.1, inplace=False)\n",
              "            )\n",
              "          )\n",
              "          (intermediate): BertIntermediate(\n",
              "            (dense): Linear(in_features=1024, out_features=4096, bias=True)\n",
              "          )\n",
              "          (output): BertOutput(\n",
              "            (dense): Linear(in_features=4096, out_features=1024, bias=True)\n",
              "            (LayerNorm): LayerNorm((1024,), eps=1e-12, elementwise_affine=True)\n",
              "            (dropout): Dropout(p=0.1, inplace=False)\n",
              "          )\n",
              "        )\n",
              "        (23): BertLayer(\n",
              "          (attention): BertAttention(\n",
              "            (self): BertSelfAttention(\n",
              "              (query): Linear(in_features=1024, out_features=1024, bias=True)\n",
              "              (key): Linear(in_features=1024, out_features=1024, bias=True)\n",
              "              (value): Linear(in_features=1024, out_features=1024, bias=True)\n",
              "              (dropout): Dropout(p=0.1, inplace=False)\n",
              "            )\n",
              "            (output): BertSelfOutput(\n",
              "              (dense): Linear(in_features=1024, out_features=1024, bias=True)\n",
              "              (LayerNorm): LayerNorm((1024,), eps=1e-12, elementwise_affine=True)\n",
              "              (dropout): Dropout(p=0.1, inplace=False)\n",
              "            )\n",
              "          )\n",
              "          (intermediate): BertIntermediate(\n",
              "            (dense): Linear(in_features=1024, out_features=4096, bias=True)\n",
              "          )\n",
              "          (output): BertOutput(\n",
              "            (dense): Linear(in_features=4096, out_features=1024, bias=True)\n",
              "            (LayerNorm): LayerNorm((1024,), eps=1e-12, elementwise_affine=True)\n",
              "            (dropout): Dropout(p=0.1, inplace=False)\n",
              "          )\n",
              "        )\n",
              "      )\n",
              "    )\n",
              "    (pooler): BertPooler(\n",
              "      (dense): Linear(in_features=1024, out_features=1024, bias=True)\n",
              "      (activation): Tanh()\n",
              "    )\n",
              "  )\n",
              "  (classifier): Sequential(\n",
              "    (0): Linear(in_features=1024, out_features=50, bias=True)\n",
              "    (1): ReLU()\n",
              "    (2): Linear(in_features=50, out_features=2, bias=True)\n",
              "  )\n",
              ")"
            ]
          },
          "metadata": {
            "tags": []
          },
          "execution_count": 30
        }
      ]
    },
    {
      "cell_type": "markdown",
      "metadata": {
        "id": "WDGMOQ59m6ZB"
      },
      "source": [
        "# Validation Predictions"
      ]
    },
    {
      "cell_type": "code",
      "metadata": {
        "id": "iMEkWVudD2KA",
        "colab": {
          "base_uri": "https://localhost:8080/",
          "height": 329
        },
        "outputId": "f9385704-0c0a-449b-83b3-b02bf4fa2ad0"
      },
      "source": [
        "# Compute predicted probabilities on the test set\n",
        "probs = bert_predict(bert_classifier, val_dataloader)\n",
        "\n",
        "# Evaluate the Bert classifier\n",
        "evaluate_roc(probs, y_val)"
      ],
      "execution_count": null,
      "outputs": [
        {
          "output_type": "stream",
          "text": [
            "AUC: 0.8887\n",
            "Accuracy: 81.15%\n"
          ],
          "name": "stdout"
        },
        {
          "output_type": "display_data",
          "data": {
            "image/png": "[encoded data removed]",
            "text/plain": [
              "<Figure size 432x288 with 1 Axes>"
            ]
          },
          "metadata": {
            "tags": [],
            "needs_background": "light"
          }
        }
      ]
    },
    {
      "cell_type": "code",
      "metadata": {
        "id": "fM8l5b7QZVO9",
        "colab": {
          "base_uri": "https://localhost:8080/"
        },
        "outputId": "bf39516a-3980-4b37-c3c6-59a4d95a45fc"
      },
      "source": [
        "from sklearn.metrics import classification_report\n",
        "# Compute predicted probabilities on the test set\n",
        "preds = bert_predict(bert_classifier, val_dataloader)\n",
        "# model's performance\n",
        "preds = np.argmax(preds, axis = 1)\n",
        "print(classification_report(val_labels, preds))"
      ],
      "execution_count": null,
      "outputs": [
        {
          "output_type": "stream",
          "text": [
            "              precision    recall  f1-score   support\n",
            "\n",
            "           0       0.81      0.81      0.81       832\n",
            "           1       0.81      0.81      0.81       818\n",
            "\n",
            "    accuracy                           0.81      1650\n",
            "   macro avg       0.81      0.81      0.81      1650\n",
            "weighted avg       0.81      0.81      0.81      1650\n",
            "\n"
          ],
          "name": "stdout"
        }
      ]
    },
    {
      "cell_type": "markdown",
      "metadata": {
        "id": "52ZAGJqkUh2N"
      },
      "source": [
        "## Saving BERT Model"
      ]
    },
    {
      "cell_type": "code",
      "metadata": {
        "id": "Yop9MsjRD8HT"
      },
      "source": [
        "torch.save(bert_classifier,'sarcasm_model-r2.pt')\n",
        "\n"
      ],
      "execution_count": null,
      "outputs": []
    },
    {
      "cell_type": "markdown",
      "metadata": {
        "id": "H5vGhiBsUlQA"
      },
      "source": [
        "##Predictions on Test Data"
      ]
    },
    {
      "cell_type": "code",
      "metadata": {
        "id": "XUi1G3xGEaz2",
        "colab": {
          "base_uri": "https://localhost:8080/"
        },
        "outputId": "730381bc-c806-4379-ef4e-28d952fdd0fa"
      },
      "source": [
        "# Run `preprocessing_for_bert` on the test set\n",
        "print('Tokenizing data...')\n",
        "test_inputs, test_masks = preprocessing_for_bert(test_data.response)\n",
        "\n",
        "# Create the DataLoader for our test set\n",
        "test_dataset = TensorDataset(test_inputs, test_masks)\n",
        "test_sampler = SequentialSampler(test_dataset)\n",
        "test_dataloader = DataLoader(test_dataset, sampler=test_sampler, batch_size=32)"
      ],
      "execution_count": null,
      "outputs": [
        {
          "output_type": "stream",
          "text": [
            "Tokenizing data...\n"
          ],
          "name": "stdout"
        },
        {
          "output_type": "stream",
          "text": [
            "/usr/local/lib/python3.6/dist-packages/transformers/tokenization_utils_base.py:2142: FutureWarning: The `pad_to_max_length` argument is deprecated and will be removed in a future version, use `padding=True` or `padding='longest'` to pad to the longest sequence in the batch, or use `padding='max_length'` to pad to a max length. In this case, you can give a specific length with `max_length` (e.g. `max_length=45`) or leave max_length to None to pad to the maximal input size of the model (e.g. 512 for Bert).\n",
            "  FutureWarning,\n"
          ],
          "name": "stderr"
        }
      ]
    },
    {
      "cell_type": "code",
      "metadata": {
        "id": "LGbeRUZjEdB4",
        "colab": {
          "base_uri": "https://localhost:8080/",
          "height": 358
        },
        "outputId": "4da76297-b011-4364-c1ba-5f4b9c2dd86d"
      },
      "source": [
        "# Compute predicted probabilities on the test set\n",
        "probs = bert_predict(bert_classifier, test_dataloader)"
      ],
      "execution_count": null,
      "outputs": [
        {
          "output_type": "error",
          "ename": "RuntimeError",
          "evalue": "ignored",
          "traceback": [
            "\u001b[0;31m---------------------------------------------------------------------------\u001b[0m",
            "\u001b[0;31mRuntimeError\u001b[0m                              Traceback (most recent call last)",
            "\u001b[0;32m<ipython-input-41-5f46deb2534d>\u001b[0m in \u001b[0;36m<module>\u001b[0;34m()\u001b[0m\n\u001b[1;32m      1\u001b[0m \u001b[0;31m# Compute predicted probabilities on the test set\u001b[0m\u001b[0;34m\u001b[0m\u001b[0;34m\u001b[0m\u001b[0;34m\u001b[0m\u001b[0m\n\u001b[0;32m----> 2\u001b[0;31m \u001b[0mprobs\u001b[0m \u001b[0;34m=\u001b[0m \u001b[0mbert_predict\u001b[0m\u001b[0;34m(\u001b[0m\u001b[0mbert_classifier\u001b[0m\u001b[0;34m,\u001b[0m \u001b[0mtest_dataloader\u001b[0m\u001b[0;34m)\u001b[0m\u001b[0;34m\u001b[0m\u001b[0;34m\u001b[0m\u001b[0m\n\u001b[0m",
            "\u001b[0;32m<ipython-input-36-d00913972a14>\u001b[0m in \u001b[0;36mbert_predict\u001b[0;34m(model, test_dataloader)\u001b[0m\n\u001b[1;32m     18\u001b[0m         \u001b[0;31m# Compute logits\u001b[0m\u001b[0;34m\u001b[0m\u001b[0;34m\u001b[0m\u001b[0;34m\u001b[0m\u001b[0m\n\u001b[1;32m     19\u001b[0m         \u001b[0;32mwith\u001b[0m \u001b[0mtorch\u001b[0m\u001b[0;34m.\u001b[0m\u001b[0mno_grad\u001b[0m\u001b[0;34m(\u001b[0m\u001b[0;34m)\u001b[0m\u001b[0;34m:\u001b[0m\u001b[0;34m\u001b[0m\u001b[0;34m\u001b[0m\u001b[0m\n\u001b[0;32m---> 20\u001b[0;31m             \u001b[0mlogits\u001b[0m \u001b[0;34m=\u001b[0m \u001b[0mmodel\u001b[0m\u001b[0;34m(\u001b[0m\u001b[0mb_input_ids\u001b[0m\u001b[0;34m,\u001b[0m \u001b[0mb_attn_mask\u001b[0m\u001b[0;34m)\u001b[0m\u001b[0;34m\u001b[0m\u001b[0;34m\u001b[0m\u001b[0m\n\u001b[0m\u001b[1;32m     21\u001b[0m         \u001b[0mall_logits\u001b[0m\u001b[0;34m.\u001b[0m\u001b[0mappend\u001b[0m\u001b[0;34m(\u001b[0m\u001b[0mlogits\u001b[0m\u001b[0;34m)\u001b[0m\u001b[0;34m\u001b[0m\u001b[0;34m\u001b[0m\u001b[0m\n\u001b[1;32m     22\u001b[0m \u001b[0;34m\u001b[0m\u001b[0m\n",
            "\u001b[0;32m/usr/local/lib/python3.6/dist-packages/torch/nn/modules/module.py\u001b[0m in \u001b[0;36m_call_impl\u001b[0;34m(self, *input, **kwargs)\u001b[0m\n\u001b[1;32m    725\u001b[0m             \u001b[0mresult\u001b[0m \u001b[0;34m=\u001b[0m \u001b[0mself\u001b[0m\u001b[0;34m.\u001b[0m\u001b[0m_slow_forward\u001b[0m\u001b[0;34m(\u001b[0m\u001b[0;34m*\u001b[0m\u001b[0minput\u001b[0m\u001b[0;34m,\u001b[0m \u001b[0;34m**\u001b[0m\u001b[0mkwargs\u001b[0m\u001b[0;34m)\u001b[0m\u001b[0;34m\u001b[0m\u001b[0;34m\u001b[0m\u001b[0m\n\u001b[1;32m    726\u001b[0m         \u001b[0;32melse\u001b[0m\u001b[0;34m:\u001b[0m\u001b[0;34m\u001b[0m\u001b[0;34m\u001b[0m\u001b[0m\n\u001b[0;32m--> 727\u001b[0;31m             \u001b[0mresult\u001b[0m \u001b[0;34m=\u001b[0m \u001b[0mself\u001b[0m\u001b[0;34m.\u001b[0m\u001b[0mforward\u001b[0m\u001b[0;34m(\u001b[0m\u001b[0;34m*\u001b[0m\u001b[0minput\u001b[0m\u001b[0;34m,\u001b[0m \u001b[0;34m**\u001b[0m\u001b[0mkwargs\u001b[0m\u001b[0;34m)\u001b[0m\u001b[0;34m\u001b[0m\u001b[0;34m\u001b[0m\u001b[0m\n\u001b[0m\u001b[1;32m    728\u001b[0m         for hook in itertools.chain(\n\u001b[1;32m    729\u001b[0m                 \u001b[0m_global_forward_hooks\u001b[0m\u001b[0;34m.\u001b[0m\u001b[0mvalues\u001b[0m\u001b[0;34m(\u001b[0m\u001b[0;34m)\u001b[0m\u001b[0;34m,\u001b[0m\u001b[0;34m\u001b[0m\u001b[0;34m\u001b[0m\u001b[0m\n",
            "\u001b[0;32m<timed exec>\u001b[0m in \u001b[0;36mforward\u001b[0;34m(self, input_ids, attention_mask)\u001b[0m\n",
            "\u001b[0;32m/usr/local/lib/python3.6/dist-packages/torch/nn/modules/module.py\u001b[0m in \u001b[0;36m_call_impl\u001b[0;34m(self, *input, **kwargs)\u001b[0m\n\u001b[1;32m    725\u001b[0m             \u001b[0mresult\u001b[0m \u001b[0;34m=\u001b[0m \u001b[0mself\u001b[0m\u001b[0;34m.\u001b[0m\u001b[0m_slow_forward\u001b[0m\u001b[0;34m(\u001b[0m\u001b[0;34m*\u001b[0m\u001b[0minput\u001b[0m\u001b[0;34m,\u001b[0m \u001b[0;34m**\u001b[0m\u001b[0mkwargs\u001b[0m\u001b[0;34m)\u001b[0m\u001b[0;34m\u001b[0m\u001b[0;34m\u001b[0m\u001b[0m\n\u001b[1;32m    726\u001b[0m         \u001b[0;32melse\u001b[0m\u001b[0;34m:\u001b[0m\u001b[0;34m\u001b[0m\u001b[0;34m\u001b[0m\u001b[0m\n\u001b[0;32m--> 727\u001b[0;31m             \u001b[0mresult\u001b[0m \u001b[0;34m=\u001b[0m \u001b[0mself\u001b[0m\u001b[0;34m.\u001b[0m\u001b[0mforward\u001b[0m\u001b[0;34m(\u001b[0m\u001b[0;34m*\u001b[0m\u001b[0minput\u001b[0m\u001b[0;34m,\u001b[0m \u001b[0;34m**\u001b[0m\u001b[0mkwargs\u001b[0m\u001b[0;34m)\u001b[0m\u001b[0;34m\u001b[0m\u001b[0;34m\u001b[0m\u001b[0m\n\u001b[0m\u001b[1;32m    728\u001b[0m         for hook in itertools.chain(\n\u001b[1;32m    729\u001b[0m                 \u001b[0m_global_forward_hooks\u001b[0m\u001b[0;34m.\u001b[0m\u001b[0mvalues\u001b[0m\u001b[0;34m(\u001b[0m\u001b[0;34m)\u001b[0m\u001b[0;34m,\u001b[0m\u001b[0;34m\u001b[0m\u001b[0;34m\u001b[0m\u001b[0m\n",
            "\u001b[0;32m/usr/local/lib/python3.6/dist-packages/transformers/models/bert/modeling_bert.py\u001b[0m in \u001b[0;36mforward\u001b[0;34m(self, input_ids, attention_mask, token_type_ids, position_ids, head_mask, inputs_embeds, encoder_hidden_states, encoder_attention_mask, output_attentions, output_hidden_states, return_dict)\u001b[0m\n\u001b[1;32m    851\u001b[0m             \u001b[0moutput_attentions\u001b[0m\u001b[0;34m=\u001b[0m\u001b[0moutput_attentions\u001b[0m\u001b[0;34m,\u001b[0m\u001b[0;34m\u001b[0m\u001b[0;34m\u001b[0m\u001b[0m\n\u001b[1;32m    852\u001b[0m             \u001b[0moutput_hidden_states\u001b[0m\u001b[0;34m=\u001b[0m\u001b[0moutput_hidden_states\u001b[0m\u001b[0;34m,\u001b[0m\u001b[0;34m\u001b[0m\u001b[0;34m\u001b[0m\u001b[0m\n\u001b[0;32m--> 853\u001b[0;31m             \u001b[0mreturn_dict\u001b[0m\u001b[0;34m=\u001b[0m\u001b[0mreturn_dict\u001b[0m\u001b[0;34m,\u001b[0m\u001b[0;34m\u001b[0m\u001b[0;34m\u001b[0m\u001b[0m\n\u001b[0m\u001b[1;32m    854\u001b[0m         )\n\u001b[1;32m    855\u001b[0m         \u001b[0msequence_output\u001b[0m \u001b[0;34m=\u001b[0m \u001b[0mencoder_outputs\u001b[0m\u001b[0;34m[\u001b[0m\u001b[0;36m0\u001b[0m\u001b[0;34m]\u001b[0m\u001b[0;34m\u001b[0m\u001b[0;34m\u001b[0m\u001b[0m\n",
            "\u001b[0;32m/usr/local/lib/python3.6/dist-packages/torch/nn/modules/module.py\u001b[0m in \u001b[0;36m_call_impl\u001b[0;34m(self, *input, **kwargs)\u001b[0m\n\u001b[1;32m    725\u001b[0m             \u001b[0mresult\u001b[0m \u001b[0;34m=\u001b[0m \u001b[0mself\u001b[0m\u001b[0;34m.\u001b[0m\u001b[0m_slow_forward\u001b[0m\u001b[0;34m(\u001b[0m\u001b[0;34m*\u001b[0m\u001b[0minput\u001b[0m\u001b[0;34m,\u001b[0m \u001b[0;34m**\u001b[0m\u001b[0mkwargs\u001b[0m\u001b[0;34m)\u001b[0m\u001b[0;34m\u001b[0m\u001b[0;34m\u001b[0m\u001b[0m\n\u001b[1;32m    726\u001b[0m         \u001b[0;32melse\u001b[0m\u001b[0;34m:\u001b[0m\u001b[0;34m\u001b[0m\u001b[0;34m\u001b[0m\u001b[0m\n\u001b[0;32m--> 727\u001b[0;31m             \u001b[0mresult\u001b[0m \u001b[0;34m=\u001b[0m \u001b[0mself\u001b[0m\u001b[0;34m.\u001b[0m\u001b[0mforward\u001b[0m\u001b[0;34m(\u001b[0m\u001b[0;34m*\u001b[0m\u001b[0minput\u001b[0m\u001b[0;34m,\u001b[0m \u001b[0;34m**\u001b[0m\u001b[0mkwargs\u001b[0m\u001b[0;34m)\u001b[0m\u001b[0;34m\u001b[0m\u001b[0;34m\u001b[0m\u001b[0m\n\u001b[0m\u001b[1;32m    728\u001b[0m         for hook in itertools.chain(\n\u001b[1;32m    729\u001b[0m                 \u001b[0m_global_forward_hooks\u001b[0m\u001b[0;34m.\u001b[0m\u001b[0mvalues\u001b[0m\u001b[0;34m(\u001b[0m\u001b[0;34m)\u001b[0m\u001b[0;34m,\u001b[0m\u001b[0;34m\u001b[0m\u001b[0;34m\u001b[0m\u001b[0m\n",
            "\u001b[0;32m/usr/local/lib/python3.6/dist-packages/transformers/models/bert/modeling_bert.py\u001b[0m in \u001b[0;36mforward\u001b[0;34m(self, hidden_states, attention_mask, head_mask, encoder_hidden_states, encoder_attention_mask, output_attentions, output_hidden_states, return_dict)\u001b[0m\n\u001b[1;32m    486\u001b[0m                     \u001b[0mencoder_hidden_states\u001b[0m\u001b[0;34m,\u001b[0m\u001b[0;34m\u001b[0m\u001b[0;34m\u001b[0m\u001b[0m\n\u001b[1;32m    487\u001b[0m                     \u001b[0mencoder_attention_mask\u001b[0m\u001b[0;34m,\u001b[0m\u001b[0;34m\u001b[0m\u001b[0;34m\u001b[0m\u001b[0m\n\u001b[0;32m--> 488\u001b[0;31m                     \u001b[0moutput_attentions\u001b[0m\u001b[0;34m,\u001b[0m\u001b[0;34m\u001b[0m\u001b[0;34m\u001b[0m\u001b[0m\n\u001b[0m\u001b[1;32m    489\u001b[0m                 )\n\u001b[1;32m    490\u001b[0m             \u001b[0mhidden_states\u001b[0m \u001b[0;34m=\u001b[0m \u001b[0mlayer_outputs\u001b[0m\u001b[0;34m[\u001b[0m\u001b[0;36m0\u001b[0m\u001b[0;34m]\u001b[0m\u001b[0;34m\u001b[0m\u001b[0;34m\u001b[0m\u001b[0m\n",
            "\u001b[0;32m/usr/local/lib/python3.6/dist-packages/torch/nn/modules/module.py\u001b[0m in \u001b[0;36m_call_impl\u001b[0;34m(self, *input, **kwargs)\u001b[0m\n\u001b[1;32m    725\u001b[0m             \u001b[0mresult\u001b[0m \u001b[0;34m=\u001b[0m \u001b[0mself\u001b[0m\u001b[0;34m.\u001b[0m\u001b[0m_slow_forward\u001b[0m\u001b[0;34m(\u001b[0m\u001b[0;34m*\u001b[0m\u001b[0minput\u001b[0m\u001b[0;34m,\u001b[0m \u001b[0;34m**\u001b[0m\u001b[0mkwargs\u001b[0m\u001b[0;34m)\u001b[0m\u001b[0;34m\u001b[0m\u001b[0;34m\u001b[0m\u001b[0m\n\u001b[1;32m    726\u001b[0m         \u001b[0;32melse\u001b[0m\u001b[0;34m:\u001b[0m\u001b[0;34m\u001b[0m\u001b[0;34m\u001b[0m\u001b[0m\n\u001b[0;32m--> 727\u001b[0;31m             \u001b[0mresult\u001b[0m \u001b[0;34m=\u001b[0m \u001b[0mself\u001b[0m\u001b[0;34m.\u001b[0m\u001b[0mforward\u001b[0m\u001b[0;34m(\u001b[0m\u001b[0;34m*\u001b[0m\u001b[0minput\u001b[0m\u001b[0;34m,\u001b[0m \u001b[0;34m**\u001b[0m\u001b[0mkwargs\u001b[0m\u001b[0;34m)\u001b[0m\u001b[0;34m\u001b[0m\u001b[0;34m\u001b[0m\u001b[0m\n\u001b[0m\u001b[1;32m    728\u001b[0m         for hook in itertools.chain(\n\u001b[1;32m    729\u001b[0m                 \u001b[0m_global_forward_hooks\u001b[0m\u001b[0;34m.\u001b[0m\u001b[0mvalues\u001b[0m\u001b[0;34m(\u001b[0m\u001b[0;34m)\u001b[0m\u001b[0;34m,\u001b[0m\u001b[0;34m\u001b[0m\u001b[0;34m\u001b[0m\u001b[0m\n",
            "\u001b[0;32m/usr/local/lib/python3.6/dist-packages/transformers/models/bert/modeling_bert.py\u001b[0m in \u001b[0;36mforward\u001b[0;34m(self, hidden_states, attention_mask, head_mask, encoder_hidden_states, encoder_attention_mask, output_attentions)\u001b[0m\n\u001b[1;32m    426\u001b[0m \u001b[0;34m\u001b[0m\u001b[0m\n\u001b[1;32m    427\u001b[0m         layer_output = apply_chunking_to_forward(\n\u001b[0;32m--> 428\u001b[0;31m             \u001b[0mself\u001b[0m\u001b[0;34m.\u001b[0m\u001b[0mfeed_forward_chunk\u001b[0m\u001b[0;34m,\u001b[0m \u001b[0mself\u001b[0m\u001b[0;34m.\u001b[0m\u001b[0mchunk_size_feed_forward\u001b[0m\u001b[0;34m,\u001b[0m \u001b[0mself\u001b[0m\u001b[0;34m.\u001b[0m\u001b[0mseq_len_dim\u001b[0m\u001b[0;34m,\u001b[0m \u001b[0mattention_output\u001b[0m\u001b[0;34m\u001b[0m\u001b[0;34m\u001b[0m\u001b[0m\n\u001b[0m\u001b[1;32m    429\u001b[0m         )\n\u001b[1;32m    430\u001b[0m         \u001b[0moutputs\u001b[0m \u001b[0;34m=\u001b[0m \u001b[0;34m(\u001b[0m\u001b[0mlayer_output\u001b[0m\u001b[0;34m,\u001b[0m\u001b[0;34m)\u001b[0m \u001b[0;34m+\u001b[0m \u001b[0moutputs\u001b[0m\u001b[0;34m\u001b[0m\u001b[0;34m\u001b[0m\u001b[0m\n",
            "\u001b[0;32m/usr/local/lib/python3.6/dist-packages/transformers/modeling_utils.py\u001b[0m in \u001b[0;36mapply_chunking_to_forward\u001b[0;34m(forward_fn, chunk_size, chunk_dim, *input_tensors)\u001b[0m\n\u001b[1;32m   1698\u001b[0m         \u001b[0;32mreturn\u001b[0m \u001b[0mtorch\u001b[0m\u001b[0;34m.\u001b[0m\u001b[0mcat\u001b[0m\u001b[0;34m(\u001b[0m\u001b[0moutput_chunks\u001b[0m\u001b[0;34m,\u001b[0m \u001b[0mdim\u001b[0m\u001b[0;34m=\u001b[0m\u001b[0mchunk_dim\u001b[0m\u001b[0;34m)\u001b[0m\u001b[0;34m\u001b[0m\u001b[0;34m\u001b[0m\u001b[0m\n\u001b[1;32m   1699\u001b[0m \u001b[0;34m\u001b[0m\u001b[0m\n\u001b[0;32m-> 1700\u001b[0;31m     \u001b[0;32mreturn\u001b[0m \u001b[0mforward_fn\u001b[0m\u001b[0;34m(\u001b[0m\u001b[0;34m*\u001b[0m\u001b[0minput_tensors\u001b[0m\u001b[0;34m)\u001b[0m\u001b[0;34m\u001b[0m\u001b[0;34m\u001b[0m\u001b[0m\n\u001b[0m",
            "\u001b[0;32m/usr/local/lib/python3.6/dist-packages/transformers/models/bert/modeling_bert.py\u001b[0m in \u001b[0;36mfeed_forward_chunk\u001b[0;34m(self, attention_output)\u001b[0m\n\u001b[1;32m    432\u001b[0m \u001b[0;34m\u001b[0m\u001b[0m\n\u001b[1;32m    433\u001b[0m     \u001b[0;32mdef\u001b[0m \u001b[0mfeed_forward_chunk\u001b[0m\u001b[0;34m(\u001b[0m\u001b[0mself\u001b[0m\u001b[0;34m,\u001b[0m \u001b[0mattention_output\u001b[0m\u001b[0;34m)\u001b[0m\u001b[0;34m:\u001b[0m\u001b[0;34m\u001b[0m\u001b[0;34m\u001b[0m\u001b[0m\n\u001b[0;32m--> 434\u001b[0;31m         \u001b[0mintermediate_output\u001b[0m \u001b[0;34m=\u001b[0m \u001b[0mself\u001b[0m\u001b[0;34m.\u001b[0m\u001b[0mintermediate\u001b[0m\u001b[0;34m(\u001b[0m\u001b[0mattention_output\u001b[0m\u001b[0;34m)\u001b[0m\u001b[0;34m\u001b[0m\u001b[0;34m\u001b[0m\u001b[0m\n\u001b[0m\u001b[1;32m    435\u001b[0m         \u001b[0mlayer_output\u001b[0m \u001b[0;34m=\u001b[0m \u001b[0mself\u001b[0m\u001b[0;34m.\u001b[0m\u001b[0moutput\u001b[0m\u001b[0;34m(\u001b[0m\u001b[0mintermediate_output\u001b[0m\u001b[0;34m,\u001b[0m \u001b[0mattention_output\u001b[0m\u001b[0;34m)\u001b[0m\u001b[0;34m\u001b[0m\u001b[0;34m\u001b[0m\u001b[0m\n\u001b[1;32m    436\u001b[0m         \u001b[0;32mreturn\u001b[0m \u001b[0mlayer_output\u001b[0m\u001b[0;34m\u001b[0m\u001b[0;34m\u001b[0m\u001b[0m\n",
            "\u001b[0;32m/usr/local/lib/python3.6/dist-packages/torch/nn/modules/module.py\u001b[0m in \u001b[0;36m_call_impl\u001b[0;34m(self, *input, **kwargs)\u001b[0m\n\u001b[1;32m    725\u001b[0m             \u001b[0mresult\u001b[0m \u001b[0;34m=\u001b[0m \u001b[0mself\u001b[0m\u001b[0;34m.\u001b[0m\u001b[0m_slow_forward\u001b[0m\u001b[0;34m(\u001b[0m\u001b[0;34m*\u001b[0m\u001b[0minput\u001b[0m\u001b[0;34m,\u001b[0m \u001b[0;34m**\u001b[0m\u001b[0mkwargs\u001b[0m\u001b[0;34m)\u001b[0m\u001b[0;34m\u001b[0m\u001b[0;34m\u001b[0m\u001b[0m\n\u001b[1;32m    726\u001b[0m         \u001b[0;32melse\u001b[0m\u001b[0;34m:\u001b[0m\u001b[0;34m\u001b[0m\u001b[0;34m\u001b[0m\u001b[0m\n\u001b[0;32m--> 727\u001b[0;31m             \u001b[0mresult\u001b[0m \u001b[0;34m=\u001b[0m \u001b[0mself\u001b[0m\u001b[0;34m.\u001b[0m\u001b[0mforward\u001b[0m\u001b[0;34m(\u001b[0m\u001b[0;34m*\u001b[0m\u001b[0minput\u001b[0m\u001b[0;34m,\u001b[0m \u001b[0;34m**\u001b[0m\u001b[0mkwargs\u001b[0m\u001b[0;34m)\u001b[0m\u001b[0;34m\u001b[0m\u001b[0;34m\u001b[0m\u001b[0m\n\u001b[0m\u001b[1;32m    728\u001b[0m         for hook in itertools.chain(\n\u001b[1;32m    729\u001b[0m                 \u001b[0m_global_forward_hooks\u001b[0m\u001b[0;34m.\u001b[0m\u001b[0mvalues\u001b[0m\u001b[0;34m(\u001b[0m\u001b[0;34m)\u001b[0m\u001b[0;34m,\u001b[0m\u001b[0;34m\u001b[0m\u001b[0;34m\u001b[0m\u001b[0m\n",
            "\u001b[0;32m/usr/local/lib/python3.6/dist-packages/transformers/models/bert/modeling_bert.py\u001b[0m in \u001b[0;36mforward\u001b[0;34m(self, hidden_states)\u001b[0m\n\u001b[1;32m    360\u001b[0m     \u001b[0;32mdef\u001b[0m \u001b[0mforward\u001b[0m\u001b[0;34m(\u001b[0m\u001b[0mself\u001b[0m\u001b[0;34m,\u001b[0m \u001b[0mhidden_states\u001b[0m\u001b[0;34m)\u001b[0m\u001b[0;34m:\u001b[0m\u001b[0;34m\u001b[0m\u001b[0;34m\u001b[0m\u001b[0m\n\u001b[1;32m    361\u001b[0m         \u001b[0mhidden_states\u001b[0m \u001b[0;34m=\u001b[0m \u001b[0mself\u001b[0m\u001b[0;34m.\u001b[0m\u001b[0mdense\u001b[0m\u001b[0;34m(\u001b[0m\u001b[0mhidden_states\u001b[0m\u001b[0;34m)\u001b[0m\u001b[0;34m\u001b[0m\u001b[0;34m\u001b[0m\u001b[0m\n\u001b[0;32m--> 362\u001b[0;31m         \u001b[0mhidden_states\u001b[0m \u001b[0;34m=\u001b[0m \u001b[0mself\u001b[0m\u001b[0;34m.\u001b[0m\u001b[0mintermediate_act_fn\u001b[0m\u001b[0;34m(\u001b[0m\u001b[0mhidden_states\u001b[0m\u001b[0;34m)\u001b[0m\u001b[0;34m\u001b[0m\u001b[0;34m\u001b[0m\u001b[0m\n\u001b[0m\u001b[1;32m    363\u001b[0m         \u001b[0;32mreturn\u001b[0m \u001b[0mhidden_states\u001b[0m\u001b[0;34m\u001b[0m\u001b[0;34m\u001b[0m\u001b[0m\n\u001b[1;32m    364\u001b[0m \u001b[0;34m\u001b[0m\u001b[0m\n",
            "\u001b[0;32m/usr/local/lib/python3.6/dist-packages/torch/nn/functional.py\u001b[0m in \u001b[0;36mgelu\u001b[0;34m(input)\u001b[0m\n\u001b[1;32m   1381\u001b[0m         \u001b[0;32mif\u001b[0m \u001b[0mtype\u001b[0m\u001b[0;34m(\u001b[0m\u001b[0minput\u001b[0m\u001b[0;34m)\u001b[0m \u001b[0;32mis\u001b[0m \u001b[0;32mnot\u001b[0m \u001b[0mTensor\u001b[0m \u001b[0;32mand\u001b[0m \u001b[0mhas_torch_function\u001b[0m\u001b[0;34m(\u001b[0m\u001b[0;34m(\u001b[0m\u001b[0minput\u001b[0m\u001b[0;34m,\u001b[0m\u001b[0;34m)\u001b[0m\u001b[0;34m)\u001b[0m\u001b[0;34m:\u001b[0m\u001b[0;34m\u001b[0m\u001b[0;34m\u001b[0m\u001b[0m\n\u001b[1;32m   1382\u001b[0m             \u001b[0;32mreturn\u001b[0m \u001b[0mhandle_torch_function\u001b[0m\u001b[0;34m(\u001b[0m\u001b[0mgelu\u001b[0m\u001b[0;34m,\u001b[0m \u001b[0;34m(\u001b[0m\u001b[0minput\u001b[0m\u001b[0;34m,\u001b[0m\u001b[0;34m)\u001b[0m\u001b[0;34m,\u001b[0m \u001b[0minput\u001b[0m\u001b[0;34m)\u001b[0m\u001b[0;34m\u001b[0m\u001b[0;34m\u001b[0m\u001b[0m\n\u001b[0;32m-> 1383\u001b[0;31m     \u001b[0;32mreturn\u001b[0m \u001b[0mtorch\u001b[0m\u001b[0;34m.\u001b[0m\u001b[0m_C\u001b[0m\u001b[0;34m.\u001b[0m\u001b[0m_nn\u001b[0m\u001b[0;34m.\u001b[0m\u001b[0mgelu\u001b[0m\u001b[0;34m(\u001b[0m\u001b[0minput\u001b[0m\u001b[0;34m)\u001b[0m\u001b[0;34m\u001b[0m\u001b[0;34m\u001b[0m\u001b[0m\n\u001b[0m\u001b[1;32m   1384\u001b[0m \u001b[0;34m\u001b[0m\u001b[0m\n\u001b[1;32m   1385\u001b[0m \u001b[0;34m\u001b[0m\u001b[0m\n",
            "\u001b[0;31mRuntimeError\u001b[0m: CUDA out of memory. Tried to allocate 46.00 MiB (GPU 0; 14.73 GiB total capacity; 13.19 GiB already allocated; 31.88 MiB free; 13.66 GiB reserved in total by PyTorch)"
          ]
        }
      ]
    },
    {
      "cell_type": "code",
      "metadata": {
        "id": "TeBPETfhOQae",
        "colab": {
          "base_uri": "https://localhost:8080/"
        },
        "outputId": "aec74dcd-af9e-45d5-fde2-2d5bd11e8d92"
      },
      "source": [
        "arg = probs.argmax(-1)\n",
        "arg_probs_df = pd.DataFrame(data=arg)\n",
        "arg_probs_df.sample(10)\n",
        "def predict_sarcasm(row):\n",
        "    \n",
        "    if row[0] == 0:\n",
        "        label = \"SARCASM\"\n",
        "    if row[0] == 1:\n",
        "        label = \"NON_SARCASM\"\n",
        "        \n",
        "    return label\n",
        "arg_probs_df['label_ids'] = arg_probs_df.apply(lambda row: predict_sarcasm(row), axis=1)\n",
        "arg_probs_df.rename(columns={0:\"preds\"}, inplace=True)\n"
      ],
      "execution_count": null,
      "outputs": [
        {
          "output_type": "execute_result",
          "data": {
            "text/plain": [
              "array([1, 0, 0, ..., 1, 1, 1])"
            ]
          },
          "metadata": {
            "tags": []
          },
          "execution_count": 49
        }
      ]
    },
    {
      "cell_type": "code",
      "metadata": {
        "id": "o1VMASnNQM1u"
      },
      "source": [
        ""
      ],
      "execution_count": null,
      "outputs": []
    },
    {
      "cell_type": "markdown",
      "metadata": {
        "id": "ITR9hS1gUysR"
      },
      "source": [
        "## Saving Predictions into (answer.txt) for submission"
      ]
    },
    {
      "cell_type": "code",
      "metadata": {
        "id": "MwPKoGb694Py"
      },
      "source": [
        "probs_df = pd.DataFrame(data=probs)\n",
        "result = pd.concat([test_data, probs_df], axis=1, sort=False)"
      ],
      "execution_count": null,
      "outputs": []
    },
    {
      "cell_type": "code",
      "metadata": {
        "id": "COWRvpKc94P0"
      },
      "source": [
        "def prodict_sarcasm(row):\n",
        "    threshold = .5\n",
        "    label = ''\n",
        "    if row[0] > threshold:\n",
        "        label = \"SARCASM\"\n",
        "    if row[1] > threshold:\n",
        "        label = \"NON_SARCASM\"\n",
        "        \n",
        "    return label\n",
        "result['label'] = result.apply(lambda row: prodict_sarcasm(row), axis=1)"
      ],
      "execution_count": null,
      "outputs": []
    },
    {
      "cell_type": "code",
      "metadata": {
        "id": "kc1lQaiX94P2"
      },
      "source": [
        "final = result.drop(['response','context', 0,1], axis=1)\n",
        "final.reset_index(drop=True, inplace=True) \n",
        "final.to_csv(r'answer.txt', header=None, index=None, sep=',', mode='a')"
      ],
      "execution_count": null,
      "outputs": []
    },
    {
      "cell_type": "markdown",
      "metadata": {
        "id": "Yz_cIeAkd2CT"
      },
      "source": [
        "##Score Submission for LiveDataLab Competition Leaderboard\n",
        "\n",
        "The answer.txt with predicted labels are then submitted to the LiveDataLab for scores with final F1 score of 75.18% beating the baseline score in the leaderboard \n",
        "![LiveDataLab-scores-sembian2.png](data:image/png;base64,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)"
      ]
    },
    {
      "cell_type": "markdown",
      "metadata": {
        "id": "a1t1-x0IUhBD"
      },
      "source": [
        "#References"
      ]
    },
    {
      "cell_type": "markdown",
      "metadata": {
        "id": "DxnTkGb5UvFQ"
      },
      "source": [
        "1. Weights and Biases: https://wandb.ai/cayush/bert-finetuning/reports/Sentence-Classification-With-Huggingface-BERT-and-W-B--Vmlldzo4MDMwNA\n",
        "2. The Role of Conversation Context for Sarcasm Detection in Online Interactions: https://arxiv.org/pdf/1707.06226.pdf\n",
        "3. Clark, Kevin, Urvashi Khandelwal, Omer Levy, and Christopher D. Manning. \"What does bert look at? an analysis of bert's attention.\" arXiv preprint arXiv:1906.04341 (2019).\n",
        "4. Sileo, Damien. \"Understanding bert transformer: Attention isnt all you need.\" Towards Data Science (2019).\n",
        "5. Weiss, Karl, Taghi M. Khoshgoftaar, and DingDing Wang. \"A survey of transfer learning.\" Journal of Big data 3, no. 1 (2016): 9.\n",
        "6. Biewald, Lukas. \"Experiment Tracking with Weights and Biases.\" (2020). \n",
        "7. Text Tweet Pre processing - https://github.com/digitalepidemiologylab\n",
        "8. The Illustrated BERT, ELMo, and co. (How NLP Cracked Transfer Learning) -  https://jalammar.github.io/illustrated-bert/\n",
        "9. Pytorch.org - https://pytorch.org/docs/stable/index.html\n",
        "10. BERT Fine-Tuning Tutorial with PyTorch for Text Classification: https://medium.com/@aniruddha.choudhury94/part-2-bert-fine-tuning-tutorial-with-pytorch-for-text-classification-on-the-corpus-of-linguistic-18057ce330e1\n",
        "11. Huggingface transformers library - https://github.com/huggingface/transformers\n",
        "12. BERT for Advance NLP with Transformers in Pytorch - https://www.linkedin.com/pulse/part1-bert-advance-nlp-transformers-pytorch-aniruddha-choudhury/\n",
        "13. Attention Is All You Need; Vaswani et al., 2017. - https://arxiv.org/pdf/1706.03762.pdf\n",
        "14. BERT: Pre-training of Deep Bidirectional Transformers for Language Understanding; Devlin et al., 2018. - https://arxiv.org/pdf/1810.04805.pdf\n",
        "15. Encoder-Decoder Architecture& Bert Paperon the full research. - https://arxiv.org/pdf/1810.04805.pdf\n",
        "16. Rennie, J. D., Shih, L., Teevan, J., & Karger, D. R. (2003). [Tackling the poor assumptions of naive bayes text classifiers. In ICML](https://people.csail.mit.edu/jrennie/papers/icml03-nb.pdf) (Vol. 3, pp. 616-623).\n",
        "17. Text classification with transformers in Tensorflow 2: BERT, XLNet - https://atheros.ai/blog/text-classification-with-transformers-in-tensorflow-2"
      ]
    },
    {
      "cell_type": "code",
      "metadata": {
        "id": "xssjAL--2Rzx"
      },
      "source": [
        ""
      ],
      "execution_count": null,
      "outputs": []
    }
  ]
}